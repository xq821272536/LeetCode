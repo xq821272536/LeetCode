{
 "cells": [
  {
   "cell_type": "markdown",
   "metadata": {},
   "source": [
    "# 方法一（超时）\n",
    "从后往前计算每个元素跳跃到最后一个元素所需的最大长度。"
   ]
  },
  {
   "cell_type": "code",
   "execution_count": 12,
   "metadata": {},
   "outputs": [],
   "source": [
    "class Solution(object):\n",
    "    def jump(self, nums):\n",
    "        \"\"\"\n",
    "        :type nums: List[int]\n",
    "        :rtype: int\n",
    "        \"\"\"\n",
    "        n = len(nums)\n",
    "        steplis = [0] * n\n",
    "        # 初始状态：最后一个元素跳到最后一个元素所需最大长度为0\n",
    "        steplis[-1] = 0\n",
    "        # 从后往前遍历\n",
    "        for i in range(n-2, -1, -1):\n",
    "            # 如果是0，则跳不到最后一个元素\n",
    "            if nums[i] == 0:\n",
    "                steplis[i] = 99999\n",
    "                continue\n",
    "            # 否则，计算当前所有跳跃情况下需要的步长，并记录\n",
    "            curstep = [steplis[i+j] for j in range(1, nums[i]+1) if i + j < n]\n",
    "            steplis[i] = min(curstep) + 1\n",
    "        return steplis[0]\n",
    "                "
   ]
  },
  {
   "cell_type": "code",
   "execution_count": 13,
   "metadata": {},
   "outputs": [
    {
     "data": {
      "text/plain": [
       "2"
      ]
     },
     "execution_count": 13,
     "metadata": {},
     "output_type": "execute_result"
    }
   ],
   "source": [
    "nums = [2,3,0,1,4]\n",
    "Solution().jump(nums)"
   ]
  },
  {
   "cell_type": "markdown",
   "metadata": {},
   "source": [
    "# 方法二（官方）\n",
    "维护最大边界，边界是走两步可到达的最远位置。"
   ]
  },
  {
   "cell_type": "code",
   "execution_count": 18,
   "metadata": {},
   "outputs": [],
   "source": [
    "class Solution(object):\n",
    "    def jump(self, nums):\n",
    "        \"\"\"\n",
    "        :type nums: List[int]\n",
    "        :rtype: int\n",
    "        \"\"\"\n",
    "        n = len(nums)\n",
    "        maxPos, end, step = 0, 0, 0\n",
    "        for i in range(n - 1):\n",
    "            if maxPos >= i:\n",
    "                maxPos = max(maxPos, i + nums[i])\n",
    "                if i == end:\n",
    "                    end = maxPos\n",
    "                    step += 1\n",
    "        return step"
   ]
  },
  {
   "cell_type": "code",
   "execution_count": 19,
   "metadata": {},
   "outputs": [
    {
     "name": "stdout",
     "output_type": "stream",
     "text": [
      "2 2 1\n",
      "4 2 1\n",
      "4 4 2\n",
      "4 4 2\n"
     ]
    },
    {
     "data": {
      "text/plain": [
       "2"
      ]
     },
     "execution_count": 19,
     "metadata": {},
     "output_type": "execute_result"
    }
   ],
   "source": [
    "nums = [2,3,0,1,4]\n",
    "Solution().jump(nums)"
   ]
  },
  {
   "cell_type": "code",
   "execution_count": null,
   "metadata": {},
   "outputs": [],
   "source": []
  }
 ],
 "metadata": {
  "kernelspec": {
   "display_name": "Python 3",
   "language": "python",
   "name": "python3"
  },
  "language_info": {
   "codemirror_mode": {
    "name": "ipython",
    "version": 3
   },
   "file_extension": ".py",
   "mimetype": "text/x-python",
   "name": "python",
   "nbconvert_exporter": "python",
   "pygments_lexer": "ipython3",
   "version": "3.6.5"
  }
 },
 "nbformat": 4,
 "nbformat_minor": 2
}
