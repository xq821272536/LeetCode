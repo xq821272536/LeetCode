{
 "cells": [
  {
   "cell_type": "code",
   "execution_count": null,
   "metadata": {},
   "outputs": [],
   "source": []
  },
  {
   "cell_type": "code",
   "execution_count": 1,
   "metadata": {},
   "outputs": [
    {
     "ename": "SyntaxError",
     "evalue": "invalid syntax (<ipython-input-1-2c51a00bb5eb>, line 39)",
     "output_type": "error",
     "traceback": [
      "\u001b[1;36m  File \u001b[1;32m\"<ipython-input-1-2c51a00bb5eb>\"\u001b[1;36m, line \u001b[1;32m39\u001b[0m\n\u001b[1;33m    while Ms\u001b[0m\n\u001b[1;37m            ^\u001b[0m\n\u001b[1;31mSyntaxError\u001b[0m\u001b[1;31m:\u001b[0m invalid syntax\n"
     ]
    }
   ],
   "source": [
    "class Solution(object):\n",
    "    def minimalSteps(self, maze):\n",
    "        m = len(maze)\n",
    "        n = len(maze[0])\n",
    "        \n",
    "        self.mm = {}\n",
    "        walls = []\n",
    "        Ms = {}\n",
    "        for i in range(m):\n",
    "            for j in range(n):\n",
    "                if maze[i][j] == 'S':\n",
    "                    start = i*n+j\n",
    "                if maze[i][j] == 'T':\n",
    "                    target = i*n+j\n",
    "                if maze[i][j] == '#':\n",
    "                    walls.append(i*n+j)\n",
    "                if maze[i][j] == 'M':\n",
    "                    Ms[i*n+j] = 0\n",
    "        print(start)\n",
    "        print(target)\n",
    "        print(walls)\n",
    "        print(Ms)\n",
    "        matric = []\n",
    "        for i in range(m*n):\n",
    "            x, y = i // n, i % n\n",
    "            row = [0]*(m*n)\n",
    "            if not [x, y] in walls:\n",
    "                if i % n != 0 and maze[(i-1) // n][(i-1) % n] != '#':\n",
    "                    row[i-1] = 1\n",
    "                if (i+1) % n != 0 and maze[(i+1) // n][(i+1) % n] != '#':\n",
    "                    row[i+1] = 1\n",
    "                if i >= n and maze[(i-n) // n][(i-n) % n] != '#':\n",
    "                    row[i-n] = 1\n",
    "                if i < (m*n-n) and maze[(i+n) // n][(i+n) % n] != '#':\n",
    "                    row[i+n] = 1\n",
    "            matric.append(row)\n",
    "        self.mm[1] = matric\n",
    "        present = matric\n",
    "        while Ms"
   ]
  },
  {
   "cell_type": "code",
   "execution_count": null,
   "metadata": {},
   "outputs": [],
   "source": [
    "matrix = [\"S#O\", \"M..\", \"M.T\"]\n",
    "print(Solution().minimalSteps(matrix))\n",
    "print(time.time()-start)"
   ]
  }
 ],
 "metadata": {
  "kernelspec": {
   "display_name": "Python 3",
   "language": "python",
   "name": "python3"
  },
  "language_info": {
   "codemirror_mode": {
    "name": "ipython",
    "version": 3
   },
   "file_extension": ".py",
   "mimetype": "text/x-python",
   "name": "python",
   "nbconvert_exporter": "python",
   "pygments_lexer": "ipython3",
   "version": "3.6.5"
  }
 },
 "nbformat": 4,
 "nbformat_minor": 2
}
