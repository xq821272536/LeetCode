{
 "cells": [
  {
   "cell_type": "markdown",
   "metadata": {},
   "source": [
    "    执行用时 :76 ms, 在所有 Python3 提交中击败了75.64%的用户\n",
    "    内存消耗 :16.9 MB, 在所有 Python3 提交中击败了5.00%的用户"
   ]
  },
  {
   "cell_type": "code",
   "execution_count": 13,
   "metadata": {},
   "outputs": [],
   "source": [
    "class MinStack:\n",
    "    def __init__(self):\n",
    "        \"\"\"\n",
    "        initialize your data structure here.\n",
    "        \"\"\"\n",
    "        self.lis = []\n",
    "        self.m = []\n",
    "\n",
    "    def push(self, x: int) -> None:\n",
    "        self.lis.append(x)\n",
    "        if self.m == [] or x < self.m[-1]:\n",
    "            self.m.append(x)\n",
    "        else:\n",
    "            self.m.append(self.m[-1])\n",
    "\n",
    "    def pop(self) -> None:\n",
    "        if self.lis == []:\n",
    "            return\n",
    "        self.m.pop()\n",
    "        self.lis.pop()\n",
    "\n",
    "    def top(self) -> int:\n",
    "        if self.lis == []:\n",
    "            return\n",
    "        return self.lis[-1]\n",
    "\n",
    "    def getMin(self) -> int:\n",
    "        if self.lis == []:\n",
    "            return\n",
    "        return self.m[-1]"
   ]
  },
  {
   "cell_type": "code",
   "execution_count": 14,
   "metadata": {},
   "outputs": [
    {
     "name": "stdout",
     "output_type": "stream",
     "text": [
      "None\n",
      "-2\n",
      "None\n",
      "None\n",
      "None\n"
     ]
    }
   ],
   "source": [
    "# Your MinStack object will be instantiated and called as such:\n",
    "obj = MinStack()\n",
    "print(obj.push(-2))\n",
    "print(obj.getMin())\n",
    "print(obj.pop())\n",
    "print(obj.top())\n",
    "print(obj.getMin())"
   ]
  },
  {
   "cell_type": "code",
   "execution_count": null,
   "metadata": {},
   "outputs": [],
   "source": []
  }
 ],
 "metadata": {
  "kernelspec": {
   "display_name": "Python 3",
   "language": "python",
   "name": "python3"
  },
  "language_info": {
   "codemirror_mode": {
    "name": "ipython",
    "version": 3
   },
   "file_extension": ".py",
   "mimetype": "text/x-python",
   "name": "python",
   "nbconvert_exporter": "python",
   "pygments_lexer": "ipython3",
   "version": "3.6.5"
  }
 },
 "nbformat": 4,
 "nbformat_minor": 2
}
