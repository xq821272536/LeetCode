{
 "cells": [
  {
   "cell_type": "markdown",
   "metadata": {},
   "source": [
    "    执行用时 :24 ms, 在所有 Python 提交中击败了93.33%的用户\n",
    "    内存消耗 :12.6 MB, 在所有 Python 提交中击败了100.00%的用户\n",
    "# 思路\n",
    "今天开始旅游所花最少钱数下面3中情况的最小值。\n",
    "* 今天旅游一天钱数+下次开始旅游所花最少钱数， \n",
    "* 今天开始旅游7天钱数+7天后开始旅游所花最少钱数， \n",
    "* 今天开始旅游30天钱数+30天后开始旅游所花最少钱数\n",
    "# 代码"
   ]
  },
  {
   "cell_type": "code",
   "execution_count": 67,
   "metadata": {},
   "outputs": [],
   "source": [
    "class Solution(object):\n",
    "    def mincostTickets(self, days, costs):\n",
    "        \"\"\"\n",
    "        :type days: List[int]\n",
    "        :type costs: List[int]\n",
    "        :rtype: int\n",
    "        \"\"\"\n",
    "        n = len(days)\n",
    "        if n == 0:\n",
    "            return 0\n",
    "        if n == 1:\n",
    "            return min(costs)\n",
    "        res = [0] * n\n",
    "        res[-1] = min(costs)\n",
    "        for i in range(n-2, -1, -1):\n",
    "            if days[-1] < days[i] + 7:\n",
    "                res[i] = min(res[i+1]+min(costs), costs[1])\n",
    "            elif days[-1] < days[i] + 30:\n",
    "                i7 = i\n",
    "                while days[i7] < days[i] + 7:\n",
    "                    i7 += 1\n",
    "                res[i] = min(res[i+1]+min(costs), res[i7]+costs[1], costs[2])\n",
    "            else:\n",
    "                i7 = i\n",
    "                while days[i7] < days[i] + 7:\n",
    "                    i7 += 1\n",
    "                i30 = i7\n",
    "                while days[i30] < days[i] + 30:\n",
    "                    i30 += 1\n",
    "                res[i] = min(res[i+1]+min(costs), res[i7]+costs[1], res[i30]+costs[2])\n",
    "        return res[0]"
   ]
  },
  {
   "cell_type": "code",
   "execution_count": 68,
   "metadata": {},
   "outputs": [
    {
     "data": {
      "text/plain": [
       "423"
      ]
     },
     "execution_count": 68,
     "metadata": {},
     "output_type": "execute_result"
    }
   ],
   "source": [
    "days = [1,2,4,5,6,7,8,9,10,11,12,13,14,15,16,17,18,20,21,24,25,27,28,29,30,31,34,37,38,39,41,43,44,45,47,48,49,54,57,60,62,63,66,69,70,72,74,76,78,80,81,82,83,84,85,88,89,91,93,94,97,99]\n",
    "costs = [9,38,134]\n",
    "# days = [1,4,6,7,8,20]\n",
    "# costs = [7,2,15]\n",
    "# days = [1,4,6,7,8,20]\n",
    "# costs = [2,7,15]\n",
    "Solution().mincostTickets(days, costs)"
   ]
  },
  {
   "cell_type": "code",
   "execution_count": null,
   "metadata": {},
   "outputs": [],
   "source": []
  }
 ],
 "metadata": {
  "kernelspec": {
   "display_name": "Python 3",
   "language": "python",
   "name": "python3"
  },
  "language_info": {
   "codemirror_mode": {
    "name": "ipython",
    "version": 3
   },
   "file_extension": ".py",
   "mimetype": "text/x-python",
   "name": "python",
   "nbconvert_exporter": "python",
   "pygments_lexer": "ipython3",
   "version": "3.6.5"
  }
 },
 "nbformat": 4,
 "nbformat_minor": 2
}
