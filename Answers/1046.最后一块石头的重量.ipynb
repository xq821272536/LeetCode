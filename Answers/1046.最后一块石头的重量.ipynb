{
 "cells": [
  {
   "cell_type": "code",
   "execution_count": null,
   "metadata": {},
   "outputs": [],
   "source": [
    "用heapq写:\n",
    "    执行用时：24 ms, 在所有 Python 提交中击败了50.83%的用户\n",
    "    内存消耗：12.8 MB, 在所有 Python 提交中击败了27.50%的用户"
   ]
  },
  {
   "cell_type": "code",
   "execution_count": 5,
   "metadata": {},
   "outputs": [],
   "source": [
    "import heapq\n",
    "class Solution(object):\n",
    "    def lastStoneWeight(self, stones):\n",
    "        \"\"\"\n",
    "        :type stones: List[int]\n",
    "        :rtype: int\n",
    "        \"\"\"\n",
    "        if stones == []:\n",
    "            return 0\n",
    "        if len(stones) == 1:\n",
    "            return stones[0]\n",
    "        hp = [-x for x in stones]\n",
    "        heapq.heapify(hp)\n",
    "        while len(hp) > 1:\n",
    "            t1 = heapq.heappop(hp)\n",
    "            t2 = heapq.heappop(hp)\n",
    "            heapq.heappush(hp, -abs(t1-t2))\n",
    "        return -hp[0] if len(hp) == 1 else 0"
   ]
  },
  {
   "cell_type": "code",
   "execution_count": null,
   "metadata": {},
   "outputs": [],
   "source": [
    "手写：\n",
    "    执行用时：28 ms, 在所有 Python 提交中击败了25.41%的用户\n",
    "    内存消耗：12.9 MB, 在所有 Python 提交中击败了12.50%的用户"
   ]
  },
  {
   "cell_type": "code",
   "execution_count": 3,
   "metadata": {},
   "outputs": [],
   "source": [
    "class Solution(object):\n",
    "    def lastStoneWeight(self, stones):\n",
    "        \"\"\"\n",
    "        :type stones: List[int]\n",
    "        :rtype: int\n",
    "        \"\"\"\n",
    "        if stones == []:\n",
    "            return 0\n",
    "        if len(stones) == 1:\n",
    "            return stones[0]\n",
    "        stones = self.buile_hp(stones)\n",
    "        while len(stones) > 1:\n",
    "            t = self.pop(stones)\n",
    "            stones[0] = abs(stones[0] - t)\n",
    "            self.sink(stones, 0)\n",
    "        return stones[0] if len(stones) == 1 else 0\n",
    "    \n",
    "    def buile_hp(self, lis):\n",
    "        for i in range(len(lis) // 2, -1, -1):\n",
    "            self.sink(lis, i)\n",
    "        return lis\n",
    "        \n",
    "    def pop(self, lis):\n",
    "        res = lis[0]\n",
    "        lis[0] = lis[-1]\n",
    "        lis.pop()\n",
    "        self.sink(lis, 0)\n",
    "        return res\n",
    "        \n",
    "    def sink(self, lis, k):\n",
    "        n = len(lis)\n",
    "        l = 2 * k + 1\n",
    "        r = 2 * k + 2\n",
    "        if l >= n:\n",
    "            return \n",
    "        max_i = l\n",
    "        if r < n and lis[r] > lis[l]:\n",
    "            max_i = r\n",
    "        if lis[k] < lis[max_i]:\n",
    "            lis[k], lis[max_i] = lis[max_i], lis[k]\n",
    "            self.sink(lis, max_i)"
   ]
  },
  {
   "cell_type": "code",
   "execution_count": 4,
   "metadata": {},
   "outputs": [
    {
     "name": "stdout",
     "output_type": "stream",
     "text": [
      "[7, 2, 4, 1, 1] 8\n",
      "[1, 2, 4, 1, 1]\n",
      "[2, 1, 1, 1] 4\n",
      "[2, 1, 1, 1]\n",
      "[1, 1, 1] 2\n",
      "[1, 1, 1]\n",
      "[1, 1] 1\n",
      "[0, 1]\n",
      "[0] 1\n",
      "[1]\n"
     ]
    },
    {
     "data": {
      "text/plain": [
       "1"
      ]
     },
     "execution_count": 4,
     "metadata": {},
     "output_type": "execute_result"
    }
   ],
   "source": [
    "stones = [2,7,4,1,8,1]\n",
    "Solution().lastStoneWeight(stones)"
   ]
  },
  {
   "cell_type": "code",
   "execution_count": null,
   "metadata": {},
   "outputs": [],
   "source": []
  }
 ],
 "metadata": {
  "kernelspec": {
   "display_name": "Python 3",
   "language": "python",
   "name": "python3"
  },
  "language_info": {
   "codemirror_mode": {
    "name": "ipython",
    "version": 3
   },
   "file_extension": ".py",
   "mimetype": "text/x-python",
   "name": "python",
   "nbconvert_exporter": "python",
   "pygments_lexer": "ipython3",
   "version": "3.6.5"
  }
 },
 "nbformat": 4,
 "nbformat_minor": 2
}
