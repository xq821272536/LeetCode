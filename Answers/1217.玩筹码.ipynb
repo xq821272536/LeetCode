{
 "cells": [
  {
   "cell_type": "markdown",
   "metadata": {},
   "source": [
    "    执行用时：28 ms, 在所有 Python 提交中击败了30.94%的用户\n",
    "    内存消耗：12.7 MB, 在所有 Python 提交中击败了53.33%的用户"
   ]
  },
  {
   "cell_type": "code",
   "execution_count": 1,
   "metadata": {},
   "outputs": [],
   "source": [
    "class Solution(object):\n",
    "    def minCostToMoveChips(self, position):\n",
    "        \"\"\"\n",
    "        :type position: List[int]\n",
    "        :rtype: int\n",
    "        \"\"\"\n",
    "        g = 0\n",
    "        o = 0\n",
    "        for i in position:\n",
    "            if i % 2 == 0:\n",
    "                g += 1\n",
    "            else:\n",
    "                o += 1\n",
    "        return min(g, o)"
   ]
  },
  {
   "cell_type": "code",
   "execution_count": 8,
   "metadata": {},
   "outputs": [
    {
     "data": {
      "text/plain": [
       "0"
      ]
     },
     "execution_count": 8,
     "metadata": {},
     "output_type": "execute_result"
    }
   ],
   "source": [
    "position = []\n",
    "Solution().minCostToMoveChips(position)"
   ]
  },
  {
   "cell_type": "code",
   "execution_count": null,
   "metadata": {},
   "outputs": [],
   "source": []
  }
 ],
 "metadata": {
  "kernelspec": {
   "display_name": "Python 3",
   "language": "python",
   "name": "python3"
  },
  "language_info": {
   "codemirror_mode": {
    "name": "ipython",
    "version": 3
   },
   "file_extension": ".py",
   "mimetype": "text/x-python",
   "name": "python",
   "nbconvert_exporter": "python",
   "pygments_lexer": "ipython3",
   "version": "3.6.5"
  }
 },
 "nbformat": 4,
 "nbformat_minor": 2
}
