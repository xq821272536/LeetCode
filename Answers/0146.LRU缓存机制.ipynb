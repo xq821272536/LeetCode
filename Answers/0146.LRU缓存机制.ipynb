{
 "cells": [
  {
   "cell_type": "markdown",
   "metadata": {},
   "source": [
    "    执行用时 :976 ms, 在所有 Python 提交中击败了28.33%的用户\n",
    "    内存消耗 :21.9 MB, 在所有 Python 提交中击败了100.00%的用户"
   ]
  },
  {
   "cell_type": "code",
   "execution_count": 16,
   "metadata": {},
   "outputs": [],
   "source": [
    "class LRUCache(object):\n",
    "\n",
    "    def __init__(self, capacity):\n",
    "        \"\"\"\n",
    "        :type capacity: int\n",
    "        \"\"\"\n",
    "        self.dic = {}\n",
    "        self.capacity = capacity\n",
    "        self.stack = []\n",
    "\n",
    "    def get(self, key):\n",
    "        \"\"\"\n",
    "        :type key: int\n",
    "        :rtype: int\n",
    "        \"\"\"\n",
    "        if key in self.dic:\n",
    "            self.stack.remove(key)\n",
    "            self.stack.append(key)\n",
    "            return self.dic[key]\n",
    "        return -1\n",
    "\n",
    "    def put(self, key, value):\n",
    "        \"\"\"\n",
    "        :type key: int\n",
    "        :type value: int\n",
    "        :rtype: None\n",
    "        \"\"\"\n",
    "        if key in self.dic:\n",
    "            self.dic[key] = value\n",
    "            self.stack.remove(key)\n",
    "            self.stack.append(key)\n",
    "        elif len(self.dic) == self.capacity:\n",
    "            del self.dic[self.stack[0]]\n",
    "            del self.stack[0]\n",
    "            self.dic[key] = value\n",
    "            self.stack.append(key)\n",
    "        else:\n",
    "            self.dic[key] = value\n",
    "            self.stack.append(key)\n",
    "            "
   ]
  },
  {
   "cell_type": "code",
   "execution_count": 18,
   "metadata": {},
   "outputs": [
    {
     "name": "stdout",
     "output_type": "stream",
     "text": [
      "[None, None, None, None, -1, 3]\n"
     ]
    }
   ],
   "source": [
    "capacity = 2\n",
    "obj = LRUCache(capacity)\n",
    "output = []\n",
    "output.append(obj.put(1,1))\n",
    "output.append(obj.put(2,1))\n",
    "output.append(obj.put(2,3))\n",
    "output.append(obj.put(4,1))\n",
    "output.append(obj.get(1))\n",
    "output.append(obj.get(2))\n",
    "print(output)"
   ]
  },
  {
   "cell_type": "code",
   "execution_count": null,
   "metadata": {},
   "outputs": [],
   "source": []
  }
 ],
 "metadata": {
  "kernelspec": {
   "display_name": "Python 3",
   "language": "python",
   "name": "python3"
  },
  "language_info": {
   "codemirror_mode": {
    "name": "ipython",
    "version": 3
   },
   "file_extension": ".py",
   "mimetype": "text/x-python",
   "name": "python",
   "nbconvert_exporter": "python",
   "pygments_lexer": "ipython3",
   "version": "3.6.5"
  }
 },
 "nbformat": 4,
 "nbformat_minor": 2
}
