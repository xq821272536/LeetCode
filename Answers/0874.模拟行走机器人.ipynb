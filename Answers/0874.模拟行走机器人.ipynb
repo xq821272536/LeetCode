{
 "cells": [
  {
   "cell_type": "markdown",
   "metadata": {},
   "source": [
    "    执行用时：348 ms, 在所有 Python 提交中击败了87.60%的用户\n",
    "    内存消耗：18.8 MB, 在所有 Python 提交中击败了88.00%的用户"
   ]
  },
  {
   "cell_type": "code",
   "execution_count": 34,
   "metadata": {},
   "outputs": [],
   "source": [
    "class Solution(object):\n",
    "    def robotSim(self, commands, obstacles):\n",
    "        \"\"\"\n",
    "        :type commands: List[int]\n",
    "        :type obstacles: List[List[int]]\n",
    "        :rtype: int\n",
    "        \"\"\"\n",
    "        res = 0\n",
    "        loc = [0, 0]\n",
    "        direction = 0\n",
    "        x = [0, -1, 0, 1]# up, left, down, right\n",
    "        y = [1, 0, -1, 0]\n",
    "        obstacleSet = set(map(tuple, obstacles))\n",
    "        for i in commands:\n",
    "            if i == -1:\n",
    "                direction = (direction - 1) % 4\n",
    "            elif i == -2:\n",
    "                direction = (direction + 1) % 4\n",
    "            else:\n",
    "                for step in range(i):\n",
    "                    if (loc[0] + x[direction], loc[1] + y[direction]) in obstacleSet:\n",
    "                        break\n",
    "                    loc[0] += x[direction]\n",
    "                    loc[1] += y[direction]\n",
    "                res = max(res, loc[0] ** 2 + loc[1] ** 2)\n",
    "        return res"
   ]
  },
  {
   "cell_type": "code",
   "execution_count": 35,
   "metadata": {},
   "outputs": [
    {
     "data": {
      "text/plain": [
       "25"
      ]
     },
     "execution_count": 35,
     "metadata": {},
     "output_type": "execute_result"
    }
   ],
   "source": [
    "commands = [4,-1,3]\n",
    "obstacles = []\n",
    "Solution().robotSim(commands, obstacles)"
   ]
  },
  {
   "cell_type": "code",
   "execution_count": null,
   "metadata": {},
   "outputs": [],
   "source": []
  },
  {
   "cell_type": "code",
   "execution_count": null,
   "metadata": {},
   "outputs": [],
   "source": []
  }
 ],
 "metadata": {
  "kernelspec": {
   "display_name": "Python 3",
   "language": "python",
   "name": "python3"
  },
  "language_info": {
   "codemirror_mode": {
    "name": "ipython",
    "version": 3
   },
   "file_extension": ".py",
   "mimetype": "text/x-python",
   "name": "python",
   "nbconvert_exporter": "python",
   "pygments_lexer": "ipython3",
   "version": "3.6.5"
  }
 },
 "nbformat": 4,
 "nbformat_minor": 2
}
