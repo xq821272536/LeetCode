{
 "cells": [
  {
   "cell_type": "markdown",
   "metadata": {},
   "source": [
    "    执行用时 :60 ms, 在所有 Python 提交中击败了65.62%的用户\n",
    "    内存消耗 :13.7 MB, 在所有 Python 提交中击败了6.06%的用户\n",
    "\n",
    "# 思路\n",
    "遍历字符串中的每个字符并记录其值和下标：\n",
    "* 如果当前字符曾出现过，更新最大长度，并从字典中删去字符串中曾出现这个字符的前面的所有字符；\n",
    "* 如果当前字符没出现过，记录当前字符和它的下标。"
   ]
  },
  {
   "cell_type": "code",
   "execution_count": 21,
   "metadata": {},
   "outputs": [],
   "source": [
    "class Solution(object):\n",
    "    def lengthOfLongestSubstring(self, s):\n",
    "        \"\"\"\n",
    "        :type s: str\n",
    "        :rtype: int\n",
    "        \"\"\"\n",
    "        mx = 0\n",
    "        lis = []\n",
    "        dic = {}\n",
    "        left = 0\n",
    "        for i in range(len(s)):\n",
    "            if s[i] in dic:\n",
    "                mx = max(mx, len(dic))\n",
    "                for d in s[left:dic[s[i]]]:\n",
    "                    del dic[d]\n",
    "                left = dic[s[i]] + 1\n",
    "                dic[s[i]] = i\n",
    "            else:\n",
    "                lis.append(s[i])\n",
    "                dic[s[i]] = i\n",
    "        return max(mx, len(dic))"
   ]
  },
  {
   "cell_type": "code",
   "execution_count": 30,
   "metadata": {},
   "outputs": [
    {
     "name": "stdout",
     "output_type": "stream",
     "text": [
      "0 {}\n",
      "1 {'a': 0}\n",
      "2 {'a': 1}\n",
      "3 {'a': 1, 'b': 2}\n",
      "4 {'a': 1, 'b': 2, 'c': 3}\n",
      "5 {'b': 4, 'c': 3}\n",
      "6 {'b': 5}\n",
      "7 {'b': 5, 'c': 6}\n"
     ]
    },
    {
     "data": {
      "text/plain": [
       "3"
      ]
     },
     "execution_count": 30,
     "metadata": {},
     "output_type": "execute_result"
    }
   ],
   "source": [
    "s = \"aabcbbcb\"\n",
    "Solution().lengthOfLongestSubstring(s)"
   ]
  },
  {
   "cell_type": "code",
   "execution_count": null,
   "metadata": {},
   "outputs": [],
   "source": []
  },
  {
   "cell_type": "code",
   "execution_count": null,
   "metadata": {},
   "outputs": [],
   "source": []
  }
 ],
 "metadata": {
  "kernelspec": {
   "display_name": "Python 3",
   "language": "python",
   "name": "python3"
  },
  "language_info": {
   "codemirror_mode": {
    "name": "ipython",
    "version": 3
   },
   "file_extension": ".py",
   "mimetype": "text/x-python",
   "name": "python",
   "nbconvert_exporter": "python",
   "pygments_lexer": "ipython3",
   "version": "3.6.5"
  }
 },
 "nbformat": 4,
 "nbformat_minor": 2
}
