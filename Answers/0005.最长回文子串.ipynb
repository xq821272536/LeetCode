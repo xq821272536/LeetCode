{
 "cells": [
  {
   "cell_type": "markdown",
   "metadata": {},
   "source": [
    "    执行用时 :1520 ms, 在所有 Python 提交中击败了53.56%的用户\n",
    "    内存消耗 :12.9 MB, 在所有 Python 提交中击败了13.04%的用户"
   ]
  },
  {
   "cell_type": "code",
   "execution_count": null,
   "metadata": {},
   "outputs": [],
   "source": [
    "class Solution(object):\n",
    "    def longestPalindrome(self, s):\n",
    "        \"\"\"\n",
    "        :type s: str\n",
    "        :rtype: str\n",
    "        \"\"\"\n",
    "        if len(s) == 0:\n",
    "            return ''\n",
    "        if len(s) == 1:\n",
    "            return s\n",
    "        newS = ''\n",
    "        for i in s:\n",
    "            newS += i\n",
    "            newS += '#'\n",
    "        l = len(newS)\n",
    "        print(newS)\n",
    "        m = 1\n",
    "        Max = 1\n",
    "        MaxS = s[0]\n",
    "        j = 1\n",
    "        for i in range(l):\n",
    "            if m > Max:\n",
    "                Max = m\n",
    "                MaxS = newS[i-j : i+j-1]\n",
    "            j = 1\n",
    "            m = 1\n",
    "            while i+j < l and i-j >= 0:\n",
    "                if newS[i+j] == newS[i-j]:\n",
    "                    m += 1\n",
    "                else:\n",
    "                    if m > Max:\n",
    "                        MaxS = newS[i-j : i+j+1]\n",
    "                    break\n",
    "                j += 1\n",
    "            \n",
    "        return MaxS.replace('#', '')"
   ]
  }
 ],
 "metadata": {
  "kernelspec": {
   "display_name": "Python 3",
   "language": "python",
   "name": "python3"
  },
  "language_info": {
   "codemirror_mode": {
    "name": "ipython",
    "version": 3
   },
   "file_extension": ".py",
   "mimetype": "text/x-python",
   "name": "python",
   "nbconvert_exporter": "python",
   "pygments_lexer": "ipython3",
   "version": "3.6.5"
  }
 },
 "nbformat": 4,
 "nbformat_minor": 2
}
