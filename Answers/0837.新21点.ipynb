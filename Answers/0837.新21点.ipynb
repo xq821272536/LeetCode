{
 "cells": [
  {
   "cell_type": "markdown",
   "metadata": {},
   "source": [
    "    执行用时 :56 ms, 在所有 Python 提交中击败了95.00%的用户\n",
    "    内存消耗 :13.2 MB, 在所有 Python 提交中击败了100.00%的用户"
   ]
  },
  {
   "cell_type": "code",
   "execution_count": null,
   "metadata": {},
   "outputs": [],
   "source": [
    "class Solution(object):\n",
    "    def new21Game(self, N, K, W):\n",
    "        \"\"\"\n",
    "        :type N: int\n",
    "        :type K: int\n",
    "        :type W: int\n",
    "        :rtype: float\n",
    "        \"\"\"\n",
    "        if K == 0:\n",
    "            return 1.0\n",
    "        dp = [0.0] * (K + W)\n",
    "        for i in range(K, min(N, K + W - 1) + 1):\n",
    "            dp[i] = 1.0\n",
    "        dp[K - 1] = float(min(N - K + 1, W)) / W\n",
    "        for i in range(K - 2, -1, -1):\n",
    "            dp[i] = dp[i + 1] - (dp[i + W + 1] - dp[i + 1]) / W\n",
    "        return dp[0]"
   ]
  }
 ],
 "metadata": {
  "kernelspec": {
   "display_name": "Python 3",
   "language": "python",
   "name": "python3"
  },
  "language_info": {
   "codemirror_mode": {
    "name": "ipython",
    "version": 3
   },
   "file_extension": ".py",
   "mimetype": "text/x-python",
   "name": "python",
   "nbconvert_exporter": "python",
   "pygments_lexer": "ipython3",
   "version": "3.6.5"
  }
 },
 "nbformat": 4,
 "nbformat_minor": 2
}
