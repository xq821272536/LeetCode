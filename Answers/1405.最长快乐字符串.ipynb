{
 "cells": [
  {
   "cell_type": "markdown",
   "metadata": {},
   "source": [
    "    执行用时 :16 ms, 在所有 Python 提交中击败了93.33%的用户\n",
    "    内存消耗 :13.1 MB, 在所有 Python 提交中击败了100.00%的用户"
   ]
  },
  {
   "cell_type": "code",
   "execution_count": null,
   "metadata": {},
   "outputs": [],
   "source": [
    "class Solution(object):\n",
    "    def longestDiverseString(self, A, B, C, a='a', b='b', c='c'):\n",
    "        \"\"\"\n",
    "        :type a: int\n",
    "        :type b: int\n",
    "        :type c: int\n",
    "        :rtype: str\n",
    "        \"\"\"\n",
    "        if B > A:\n",
    "            return self.longestDiverseString(B, A, C, a=b, b=a, c=c)\n",
    "        if C > B:\n",
    "            return self.longestDiverseString(A, C, B, a=a, b=c, c=b)\n",
    "        if B == 0:\n",
    "            return min(2, A) * a\n",
    "        na = min(2, A)\n",
    "        nb = 1 if A - na >= B - 1 else 0\n",
    "        return a * na + b * nb + self.longestDiverseString(A-na, B-nb, C, a=a, b=b, c=c)"
   ]
  }
 ],
 "metadata": {
  "kernelspec": {
   "display_name": "Python 3",
   "language": "python",
   "name": "python3"
  },
  "language_info": {
   "codemirror_mode": {
    "name": "ipython",
    "version": 3
   },
   "file_extension": ".py",
   "mimetype": "text/x-python",
   "name": "python",
   "nbconvert_exporter": "python",
   "pygments_lexer": "ipython3",
   "version": "3.6.5"
  }
 },
 "nbformat": 4,
 "nbformat_minor": 2
}
