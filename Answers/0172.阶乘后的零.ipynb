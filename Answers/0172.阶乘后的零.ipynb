{
 "cells": [
  {
   "cell_type": "code",
   "execution_count": null,
   "metadata": {},
   "outputs": [],
   "source": []
  },
  {
   "cell_type": "code",
   "execution_count": 1,
   "metadata": {},
   "outputs": [
    {
     "ename": "IndentationError",
     "evalue": "expected an indented block (<ipython-input-1-9d946245e3fd>, line 19)",
     "output_type": "error",
     "traceback": [
      "\u001b[1;36m  File \u001b[1;32m\"<ipython-input-1-9d946245e3fd>\"\u001b[1;36m, line \u001b[1;32m19\u001b[0m\n\u001b[1;33m    n = n % t\u001b[0m\n\u001b[1;37m    ^\u001b[0m\n\u001b[1;31mIndentationError\u001b[0m\u001b[1;31m:\u001b[0m expected an indented block\n"
     ]
    }
   ],
   "source": [
    "class Solution(object):\n",
    "    def trailingZeroes(self, n):\n",
    "        \"\"\"\n",
    "        :type n: int\n",
    "        :rtype: int\n",
    "        \"\"\"\n",
    "        res = 0\n",
    "        t = 10\n",
    "        temp = 2\n",
    "        while n > 5:\n",
    "            while n // (t*10) > 0:\n",
    "                t *= 10\n",
    "                res += temp*10+2\n",
    "\n",
    "            pres = n // 10\n",
    "            if pres >= 5:\n",
    "\n",
    "\n",
    "            n = n % t\n",
    "        if n >= 5:\n",
    "            res += 1\n",
    "        return res"
   ]
  },
  {
   "cell_type": "code",
   "execution_count": null,
   "metadata": {},
   "outputs": [],
   "source": [
    "n = 54\n",
    "print(Solution().trailingZeroes(n))\n",
    "\n",
    "import math\n",
    "value = math.factorial(n)\n",
    "print(value)"
   ]
  }
 ],
 "metadata": {
  "kernelspec": {
   "display_name": "Python 3",
   "language": "python",
   "name": "python3"
  },
  "language_info": {
   "codemirror_mode": {
    "name": "ipython",
    "version": 3
   },
   "file_extension": ".py",
   "mimetype": "text/x-python",
   "name": "python",
   "nbconvert_exporter": "python",
   "pygments_lexer": "ipython3",
   "version": "3.6.5"
  }
 },
 "nbformat": 4,
 "nbformat_minor": 2
}
