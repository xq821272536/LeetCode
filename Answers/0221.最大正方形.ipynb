{
 "cells": [
  {
   "cell_type": "markdown",
   "metadata": {},
   "source": [
    "    执行用时 :76 ms, 在所有 Python 提交中击败了80.56%的用户\n",
    "    内存消耗 :17.8 MB, 在所有 Python 提交中击败了100.00%的用户\n",
    "# 思路\n",
    "* 当前值为1时，当前最大正方形边长 = min（左边、上边、左上最大正方形边长）+ 1\n",
    "* 当前值为0时，当前最大正方形边长 = 0\n",
    "\n",
    "# 代码"
   ]
  },
  {
   "cell_type": "code",
   "execution_count": 22,
   "metadata": {},
   "outputs": [],
   "source": [
    "class Solution(object):\n",
    "    def maximalSquare(self, matrix):\n",
    "        \"\"\"\n",
    "        :type matrix: List[List[str]]\n",
    "        :rtype: int\n",
    "        \"\"\"\n",
    "        resM = 0\n",
    "        m = len(matrix)\n",
    "        if m == 0:\n",
    "            return 0\n",
    "        n = len(matrix[0])\n",
    "        lastrow = [int(x) for x in matrix[0]]\n",
    "        for i in range(1, m):\n",
    "            currow = [0]*n\n",
    "            currow[0] = int(matrix[i][0])\n",
    "            for j in range(1, n):\n",
    "                currow[j] = min(currow[j-1], lastrow[j-1], lastrow[j]) + 1 if matrix[i][j] == '1' else 0\n",
    "            lastrow = currow\n",
    "            M = max(lastrow)\n",
    "            resM = max(M, resM)\n",
    "        M = max(lastrow)\n",
    "        resM = max(M, resM)\n",
    "        return resM**2"
   ]
  },
  {
   "cell_type": "code",
   "execution_count": 23,
   "metadata": {},
   "outputs": [
    {
     "data": {
      "text/plain": [
       "1"
      ]
     },
     "execution_count": 23,
     "metadata": {},
     "output_type": "execute_result"
    }
   ],
   "source": [
    "# matrix = [[1,0,1,0,0],\n",
    "#          [1,0,1,1,1],\n",
    "#          [1,1,1,1,1],\n",
    "#          [1,0,1,1,1]]\n",
    "matrix = [['1']]\n",
    "Solution().maximalSquare(matrix)"
   ]
  },
  {
   "cell_type": "code",
   "execution_count": null,
   "metadata": {},
   "outputs": [],
   "source": []
  }
 ],
 "metadata": {
  "kernelspec": {
   "display_name": "Python 3",
   "language": "python",
   "name": "python3"
  },
  "language_info": {
   "codemirror_mode": {
    "name": "ipython",
    "version": 3
   },
   "file_extension": ".py",
   "mimetype": "text/x-python",
   "name": "python",
   "nbconvert_exporter": "python",
   "pygments_lexer": "ipython3",
   "version": "3.6.5"
  }
 },
 "nbformat": 4,
 "nbformat_minor": 2
}
