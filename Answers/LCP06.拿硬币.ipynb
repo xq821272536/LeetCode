{
 "cells": [
  {
   "cell_type": "markdown",
   "metadata": {},
   "source": [
    "    执行用时 :12 ms, 在所有 Python 提交中击败了98.69%的用户\n",
    "    内存消耗 :12.9 MB, 在所有 Python 提交中击败了100.00%的用户"
   ]
  },
  {
   "cell_type": "code",
   "execution_count": null,
   "metadata": {},
   "outputs": [],
   "source": [
    "class Solution(object):\n",
    "    def minCount(self, coins):\n",
    "        \"\"\"\n",
    "        :type coins: List[int]\n",
    "        :rtype: int\n",
    "        \"\"\"\n",
    "        res = []\n",
    "        for i in coins:\n",
    "            t = i // 2\n",
    "            res.append(t if i%2==0 else +1)\n",
    "        return sum(res)"
   ]
  }
 ],
 "metadata": {
  "kernelspec": {
   "display_name": "Python 3",
   "language": "python",
   "name": "python3"
  },
  "language_info": {
   "codemirror_mode": {
    "name": "ipython",
    "version": 3
   },
   "file_extension": ".py",
   "mimetype": "text/x-python",
   "name": "python",
   "nbconvert_exporter": "python",
   "pygments_lexer": "ipython3",
   "version": "3.6.5"
  }
 },
 "nbformat": 4,
 "nbformat_minor": 2
}
