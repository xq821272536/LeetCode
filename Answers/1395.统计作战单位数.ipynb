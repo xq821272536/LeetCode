{
 "cells": [
  {
   "cell_type": "markdown",
   "metadata": {},
   "source": [
    "    执行用时 :108 ms, 在所有 Python 提交中击败了71.34%的用户\n",
    "    内存消耗 :12.9 MB, 在所有 Python 提交中击败了100.00%的用户"
   ]
  },
  {
   "cell_type": "code",
   "execution_count": null,
   "metadata": {},
   "outputs": [],
   "source": [
    "class Solution(object):\n",
    "    def numTeams(self, rating):\n",
    "        \"\"\"\n",
    "        :type rating: List[int]\n",
    "        :rtype: int\n",
    "        \"\"\"\n",
    "        l = len(rating)\n",
    "        if l < 3:\n",
    "            return 0\n",
    "        if l == 3:\n",
    "            if (rating[0] < rating[1] and rating[1] < rating[2])\\\n",
    "            or (rating[0] > rating[1] and rating[1] > rating[2]):\n",
    "                return 1\n",
    "            else:\n",
    "                return 0\n",
    "        bigger = [0]*l\n",
    "        smaller = [0]*l\n",
    "        result = 0\n",
    "        for i in range(1, l):\n",
    "            blist = [x for x in range(i) if rating[x] > rating[i]]\n",
    "            bigger[i] = len(blist)\n",
    "            smaller[i] = len(rating[:i]) - len(blist)\n",
    "            for j in range(i):\n",
    "                if j in blist:\n",
    "                    result += bigger[j]\n",
    "                else:\n",
    "                    result += smaller[j]\n",
    "        return result"
   ]
  }
 ],
 "metadata": {
  "kernelspec": {
   "display_name": "Python 3",
   "language": "python",
   "name": "python3"
  },
  "language_info": {
   "codemirror_mode": {
    "name": "ipython",
    "version": 3
   },
   "file_extension": ".py",
   "mimetype": "text/x-python",
   "name": "python",
   "nbconvert_exporter": "python",
   "pygments_lexer": "ipython3",
   "version": "3.6.5"
  }
 },
 "nbformat": 4,
 "nbformat_minor": 2
}
