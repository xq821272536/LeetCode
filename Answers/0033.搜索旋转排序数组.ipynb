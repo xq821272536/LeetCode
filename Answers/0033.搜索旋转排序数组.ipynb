{
 "cells": [
  {
   "attachments": {},
   "cell_type": "markdown",
   "metadata": {},
   "source": [
    "    执行用时 :16 ms, 在所有 Python 提交中击败了95.81%的用户\n",
    "    内存消耗 :12.8 MB, 在所有 Python 提交中击败了25.00%的用户\n",
    "# 思路\n"
   ]
  },
  {
   "cell_type": "code",
   "execution_count": 26,
   "metadata": {},
   "outputs": [],
   "source": [
    "class Solution(object):\n",
    "    def search(self, nums, target):\n",
    "        \"\"\"\n",
    "        :type nums: List[int]\n",
    "        :type target: int\n",
    "        :rtype: int\n",
    "        \"\"\"\n",
    "        if len(nums) == 1 and nums[0] == target:\n",
    "            return 0\n",
    "        if len(nums) == 2:\n",
    "            if nums[0] == target:\n",
    "                return 0\n",
    "            if nums[1] == target:\n",
    "                return 1\n",
    "        l, r = 0, len(nums)-1\n",
    "        while l < r-1:\n",
    "            if nums[l] == target:\n",
    "                return l\n",
    "            if nums[r] == target:\n",
    "                return r\n",
    "            m = (l + r) // 2\n",
    "            if nums[m] == target:\n",
    "                return m\n",
    "            if target < nums[l] and target > nums[r]:\n",
    "                return -1\n",
    "            if nums[l] < target < nums[m] or target < nums[m] < nums[l] or nums[m] < nums[l] < target:\n",
    "                r = m\n",
    "            else:\n",
    "                l = m\n",
    "        return -1"
   ]
  },
  {
   "cell_type": "code",
   "execution_count": 27,
   "metadata": {},
   "outputs": [
    {
     "name": "stdout",
     "output_type": "stream",
     "text": [
      "0\n"
     ]
    }
   ],
   "source": [
    "nums = [1, 3]\n",
    "target = 1\n",
    "print(Solution().search(nums, target))"
   ]
  },
  {
   "cell_type": "code",
   "execution_count": null,
   "metadata": {},
   "outputs": [],
   "source": []
  }
 ],
 "metadata": {
  "kernelspec": {
   "display_name": "Python 3",
   "language": "python",
   "name": "python3"
  },
  "language_info": {
   "codemirror_mode": {
    "name": "ipython",
    "version": 3
   },
   "file_extension": ".py",
   "mimetype": "text/x-python",
   "name": "python",
   "nbconvert_exporter": "python",
   "pygments_lexer": "ipython3",
   "version": "3.6.5"
  }
 },
 "nbformat": 4,
 "nbformat_minor": 2
}
