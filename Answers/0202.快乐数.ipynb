{
 "cells": [
  {
   "attachments": {},
   "cell_type": "markdown",
   "metadata": {},
   "source": [
    "* 执行用时 :24 ms, 在所有 Python 提交中击败了78.88%的用户\n",
    "* 内存消耗 :12.9 MB, 在所有 Python 提交中击败了33.33%的用户\n",
    "\n",
    "# 思路\n",
    "记录每次的计算结果并保存，如果结果已经记录过了，说明陷入了无限循环，返回False。\n",
    "\n",
    "# 代码"
   ]
  },
  {
   "cell_type": "code",
   "execution_count": 1,
   "metadata": {},
   "outputs": [],
   "source": [
    "class Solution(object):\n",
    "    def isHappy(self, n):\n",
    "        \"\"\"\n",
    "        :type n: int\n",
    "        :rtype: bool\n",
    "        \"\"\"\n",
    "        res = {n:1}\n",
    "        while n != 1:\n",
    "            Sum = 0\n",
    "            while n != 0:\n",
    "                Sum += (n % 10) ** 2\n",
    "                n //= 10\n",
    "            n = Sum\n",
    "            if Sum in res:\n",
    "                return False\n",
    "            res[Sum] = 1\n",
    "        return True"
   ]
  },
  {
   "cell_type": "code",
   "execution_count": 2,
   "metadata": {},
   "outputs": [
    {
     "data": {
      "text/plain": [
       "True"
      ]
     },
     "execution_count": 2,
     "metadata": {},
     "output_type": "execute_result"
    }
   ],
   "source": [
    "n = 19\n",
    "Solution().isHappy(n)"
   ]
  },
  {
   "cell_type": "code",
   "execution_count": null,
   "metadata": {},
   "outputs": [],
   "source": []
  }
 ],
 "metadata": {
  "kernelspec": {
   "display_name": "Python 3",
   "language": "python",
   "name": "python3"
  },
  "language_info": {
   "codemirror_mode": {
    "name": "ipython",
    "version": 3
   },
   "file_extension": ".py",
   "mimetype": "text/x-python",
   "name": "python",
   "nbconvert_exporter": "python",
   "pygments_lexer": "ipython3",
   "version": "3.6.5"
  }
 },
 "nbformat": 4,
 "nbformat_minor": 2
}
