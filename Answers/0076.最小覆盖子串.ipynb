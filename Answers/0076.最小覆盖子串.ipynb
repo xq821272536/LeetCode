{
 "cells": [
  {
   "cell_type": "markdown",
   "metadata": {},
   "source": [
    "    执行用时 :312 ms, 在所有 Python 提交中击败了22.13%的用户\n",
    "    内存消耗 :13.4 MB, 在所有 Python 提交中击败了100.00%的用户"
   ]
  },
  {
   "cell_type": "code",
   "execution_count": 31,
   "metadata": {},
   "outputs": [],
   "source": [
    "class Solution(object):\n",
    "    def minWindow(self, s, t):\n",
    "        \"\"\"\n",
    "        :type s: str\n",
    "        :type t: str\n",
    "        :rtype: str\n",
    "        \"\"\"\n",
    "        mi = 99999\n",
    "        res = ''\n",
    "        tardic = {}\n",
    "        dic = {}\n",
    "        for i in t:\n",
    "            if i in tardic:\n",
    "                tardic[i] += 1\n",
    "            else:\n",
    "                tardic[i] = 1\n",
    "                dic[i] = 0\n",
    "        l, r = 0, -1\n",
    "        while l < len(s):\n",
    "            if self.comperdic(dic, tardic):\n",
    "                if r < len(s)-1:\n",
    "                    r += 1\n",
    "                    if s[r] in dic:\n",
    "                        dic[s[r]] += 1\n",
    "                    continue\n",
    "                else:\n",
    "                    return res\n",
    "            res = res if mi < r - l + 1 else s[l:r+1]\n",
    "            mi = min(mi, r - l + 1)\n",
    "            if s[l] in dic:\n",
    "                dic[s[l]] -= 1\n",
    "            l += 1\n",
    "        return res\n",
    "    def comperdic(self, dics, dicb):\n",
    "        for i in dics:\n",
    "            if dics[i] < dicb[i]:\n",
    "                return True\n",
    "        return False"
   ]
  },
  {
   "cell_type": "code",
   "execution_count": 36,
   "metadata": {},
   "outputs": [
    {
     "data": {
      "text/plain": [
       "'aa'"
      ]
     },
     "execution_count": 36,
     "metadata": {},
     "output_type": "execute_result"
    }
   ],
   "source": [
    "S = \"baa\"\n",
    "T = \"aa\"\n",
    "Solution().minWindow(S, T)"
   ]
  },
  {
   "cell_type": "code",
   "execution_count": null,
   "metadata": {},
   "outputs": [],
   "source": []
  }
 ],
 "metadata": {
  "kernelspec": {
   "display_name": "Python 3",
   "language": "python",
   "name": "python3"
  },
  "language_info": {
   "codemirror_mode": {
    "name": "ipython",
    "version": 3
   },
   "file_extension": ".py",
   "mimetype": "text/x-python",
   "name": "python",
   "nbconvert_exporter": "python",
   "pygments_lexer": "ipython3",
   "version": "3.6.5"
  }
 },
 "nbformat": 4,
 "nbformat_minor": 2
}
