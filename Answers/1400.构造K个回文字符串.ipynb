{
 "cells": [
  {
   "cell_type": "markdown",
   "metadata": {},
   "source": [
    "    执行用时 :112 ms, 在所有 Python 提交中击败了76.92%的用户\n",
    "    内存消耗 :14 MB, 在所有 Python 提交中击败了100.00%的用户"
   ]
  },
  {
   "cell_type": "code",
   "execution_count": null,
   "metadata": {},
   "outputs": [],
   "source": [
    "class Solution(object):\n",
    "    def canConstruct(self, s, k):\n",
    "        \"\"\"\n",
    "        :type s: str\n",
    "        :type k: int\n",
    "        :rtype: bool\n",
    "        \"\"\"\n",
    "        dirt = {}\n",
    "        for i in s:\n",
    "            if i in dirt:\n",
    "                dirt[i] += 1\n",
    "            else:\n",
    "                dirt[i] = 1\n",
    "        ordnum = 0\n",
    "        for i in dirt.items():\n",
    "            if i[1] % 2 != 0:\n",
    "                ordnum += 1\n",
    "        return ordnum <= k and len(s) >= k"
   ]
  }
 ],
 "metadata": {
  "kernelspec": {
   "display_name": "Python 3",
   "language": "python",
   "name": "python3"
  },
  "language_info": {
   "codemirror_mode": {
    "name": "ipython",
    "version": 3
   },
   "file_extension": ".py",
   "mimetype": "text/x-python",
   "name": "python",
   "nbconvert_exporter": "python",
   "pygments_lexer": "ipython3",
   "version": "3.6.5"
  }
 },
 "nbformat": 4,
 "nbformat_minor": 2
}
