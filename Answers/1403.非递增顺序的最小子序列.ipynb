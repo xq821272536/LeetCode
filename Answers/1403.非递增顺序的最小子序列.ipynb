{
 "cells": [
  {
   "cell_type": "markdown",
   "metadata": {},
   "source": [
    "    执行用时 :28 ms, 在所有 Python 提交中击败了79.52%的用户\n",
    "    内存消耗 :12.9 MB, 在所有 Python 提交中击败了100.00%的用户"
   ]
  },
  {
   "cell_type": "code",
   "execution_count": null,
   "metadata": {},
   "outputs": [],
   "source": [
    "class Solution(object):\n",
    "    def minSubsequence(self, nums):\n",
    "        \"\"\"\n",
    "        :type nums: List[int]\n",
    "        :rtype: List[int]\n",
    "        \"\"\"\n",
    "        nums = sorted(nums)[::-1]\n",
    "        sumleft = 0\n",
    "        sumright = sum(nums)\n",
    "        result = []\n",
    "        for i in nums:\n",
    "            sumleft += i \n",
    "            sumright -= i \n",
    "            result += [i]\n",
    "            if sumleft > sumright:\n",
    "                return result"
   ]
  }
 ],
 "metadata": {
  "kernelspec": {
   "display_name": "Python 3",
   "language": "python",
   "name": "python3"
  },
  "language_info": {
   "codemirror_mode": {
    "name": "ipython",
    "version": 3
   },
   "file_extension": ".py",
   "mimetype": "text/x-python",
   "name": "python",
   "nbconvert_exporter": "python",
   "pygments_lexer": "ipython3",
   "version": "3.6.5"
  }
 },
 "nbformat": 4,
 "nbformat_minor": 2
}
