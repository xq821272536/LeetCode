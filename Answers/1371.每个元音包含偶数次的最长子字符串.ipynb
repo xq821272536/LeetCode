{
 "cells": [
  {
   "cell_type": "markdown",
   "metadata": {},
   "source": [
    "    执行用时 :556 ms, 在所有 Python 提交中击败了70.59%的用户\n",
    "    内存消耗 :34.3 MB, 在所有 Python 提交中击败了100.00%的用户"
   ]
  },
  {
   "cell_type": "code",
   "execution_count": 1,
   "metadata": {},
   "outputs": [],
   "source": [
    "class Solution(object):\n",
    "    def findTheLongestSubstring(self, s):\n",
    "        \"\"\"\n",
    "        :type s: str\n",
    "        :rtype: int\n",
    "        \"\"\"\n",
    "        dic = {\n",
    "            'a': 1,\n",
    "            'e': 2,\n",
    "            'i': 4,\n",
    "            'o': 8,\n",
    "            'u': 16\n",
    "        }\n",
    "        seen = {0: -1}\n",
    "        res = cur = 0\n",
    "        for i in range(len(s)):\n",
    "            if s[i] in dic:\n",
    "                cur ^= dic.get(s[i])\n",
    "            if cur in seen:\n",
    "                res = max(res, i - seen.get(cur))\n",
    "            else:\n",
    "                seen[cur] = i\n",
    "        return res"
   ]
  },
  {
   "cell_type": "code",
   "execution_count": 2,
   "metadata": {},
   "outputs": [
    {
     "data": {
      "text/plain": [
       "13"
      ]
     },
     "execution_count": 2,
     "metadata": {},
     "output_type": "execute_result"
    }
   ],
   "source": [
    "s = \"eleetminicoworoep\"\n",
    "Solution().findTheLongestSubstring(s)"
   ]
  },
  {
   "cell_type": "code",
   "execution_count": null,
   "metadata": {},
   "outputs": [],
   "source": []
  }
 ],
 "metadata": {
  "kernelspec": {
   "display_name": "Python 3",
   "language": "python",
   "name": "python3"
  },
  "language_info": {
   "codemirror_mode": {
    "name": "ipython",
    "version": 3
   },
   "file_extension": ".py",
   "mimetype": "text/x-python",
   "name": "python",
   "nbconvert_exporter": "python",
   "pygments_lexer": "ipython3",
   "version": "3.6.5"
  }
 },
 "nbformat": 4,
 "nbformat_minor": 2
}
