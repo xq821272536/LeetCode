{
 "cells": [
  {
   "cell_type": "markdown",
   "metadata": {},
   "source": [
    "    执行用时 :88 ms, 在所有 Python 提交中击败了100.00%的用户\n",
    "    内存消耗 :15.3 MB, 在所有 Python 提交中击败了100.00%的用户\n",
    "# 思路\n",
    "    遍历，计算每个1和上一个1间的坐标差，如果小于等于k，返回False；\n",
    "    遍历完都没有返回False，说明所有1间的0的个数都符合要求，返回True。\n",
    "# 代码"
   ]
  },
  {
   "cell_type": "code",
   "execution_count": 55,
   "metadata": {},
   "outputs": [],
   "source": [
    "class Solution(object):\n",
    "    def kLengthApart(self, nums, k):\n",
    "        \"\"\"\n",
    "        :type nums: List[int]\n",
    "        :type k: int\n",
    "        :rtype: bool\n",
    "        \"\"\"\n",
    "        n = len(nums)\n",
    "        i = 0\n",
    "        while i < n and nums[i] == 0:\n",
    "            i += 1\n",
    "        if i == n:\n",
    "            return True\n",
    "        lastidx = i\n",
    "        i += 1\n",
    "        while i < n:\n",
    "            if nums[i] == 0:\n",
    "                i += 1\n",
    "                continue\n",
    "            if i - lastidx <= k:\n",
    "                return False\n",
    "            lastidx = i\n",
    "            i += 1\n",
    "        return True"
   ]
  },
  {
   "cell_type": "code",
   "execution_count": 64,
   "metadata": {},
   "outputs": [
    {
     "name": "stdout",
     "output_type": "stream",
     "text": [
      "2 1\n",
      "3 1\n"
     ]
    },
    {
     "data": {
      "text/plain": [
       "True"
      ]
     },
     "execution_count": 64,
     "metadata": {},
     "output_type": "execute_result"
    }
   ],
   "source": [
    "nums = [0,1,0,1]\n",
    "k = 1\n",
    "Solution().kLengthApart(nums, k)"
   ]
  },
  {
   "cell_type": "code",
   "execution_count": null,
   "metadata": {},
   "outputs": [],
   "source": []
  }
 ],
 "metadata": {
  "kernelspec": {
   "display_name": "Python 3",
   "language": "python",
   "name": "python3"
  },
  "language_info": {
   "codemirror_mode": {
    "name": "ipython",
    "version": 3
   },
   "file_extension": ".py",
   "mimetype": "text/x-python",
   "name": "python",
   "nbconvert_exporter": "python",
   "pygments_lexer": "ipython3",
   "version": "3.6.5"
  }
 },
 "nbformat": 4,
 "nbformat_minor": 2
}
