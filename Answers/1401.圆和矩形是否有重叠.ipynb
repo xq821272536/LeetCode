{
 "cells": [
  {
   "cell_type": "markdown",
   "metadata": {},
   "source": [
    "    执行用时 :36 ms, 在所有 Python 提交中击败了8.93%的用户\n",
    "    内存消耗 :12.9 MB, 在所有 Python 提交中击败了100.00%的用户"
   ]
  },
  {
   "cell_type": "code",
   "execution_count": null,
   "metadata": {},
   "outputs": [],
   "source": [
    "class Solution(object):\n",
    "    def checkOverlap(self, radius, x_center, y_center, x1, y1, x2, y2):\n",
    "        \"\"\"\n",
    "        :type radius: int\n",
    "        :type x_center: int\n",
    "        :type y_center: int\n",
    "        :type x1: int\n",
    "        :type y1: int\n",
    "        :type x2: int\n",
    "        :type y2: int\n",
    "        :rtype: bool\n",
    "        \"\"\"\n",
    "        i, j = x1, y1\n",
    "        while x1 <= i and i < x2+1 and y1 <= j and j < y2+1:\n",
    "            if (i-x_center)**2 + (j-y_center)**2 <= radius**2:\n",
    "                return True\n",
    "            stepy = 1 if y_center - j > 0 else -1\n",
    "            if j - y_center == 0 or not(j + stepy >= y1 and j + stepy <= y2):\n",
    "                stepy = 0\n",
    "            stepx = 1 if x_center - i > 0 else -1\n",
    "            if (i - x_center) == 0 or not((i + stepx >= x1) and (i + stepx <= x2)):\n",
    "                stepx = 0\n",
    "            if stepx == 0 and stepy == 0:\n",
    "                break\n",
    "            else:\n",
    "                i += stepx\n",
    "                j += stepy\n",
    "                \n",
    "        return False"
   ]
  }
 ],
 "metadata": {
  "kernelspec": {
   "display_name": "Python 3",
   "language": "python",
   "name": "python3"
  },
  "language_info": {
   "codemirror_mode": {
    "name": "ipython",
    "version": 3
   },
   "file_extension": ".py",
   "mimetype": "text/x-python",
   "name": "python",
   "nbconvert_exporter": "python",
   "pygments_lexer": "ipython3",
   "version": "3.6.5"
  }
 },
 "nbformat": 4,
 "nbformat_minor": 2
}
