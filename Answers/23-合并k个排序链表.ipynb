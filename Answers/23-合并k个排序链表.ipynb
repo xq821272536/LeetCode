{
  "cells": [
    {
      "cell_type": "code",
      "execution_count": 2,
      "outputs": [],
      "source": "# Definition for singly-linked list.\n# class ListNode(object):\n#     def __init__(self, x):\n#         self.val \u003d x\n#         self.next \u003d None\n\nclass Solution(object):\n    def mergeKLists(self, lists):\n        \"\"\"\n        :type lists: List[ListNode]\n        :rtype: ListNode\n        \"\"\"\n        while None in lists:\n            lists.remove(None)\n        resNode \u003d None\n        while lists !\u003d []:\n            mi \u003d min(lists, key\u003dlambda x:x.val)\n            if resNode \u003d\u003d None:\n                resNode \u003d mi\n                p \u003d mi\n            else:\n                p.next \u003d mi\n                p \u003d p.next\n            t \u003d mi.next\n            lists.remove(mi)\n            if not t is None:\n                lists.append(t)\n        return resNode\n\n",
      "metadata": {
        "pycharm": {
          "metadata": false,
          "name": "#%%\n",
          "is_executing": false
        }
      }
    }
  ],
  "metadata": {
    "language_info": {
      "codemirror_mode": {
        "name": "ipython",
        "version": 2
      },
      "file_extension": ".py",
      "mimetype": "text/x-python",
      "name": "python",
      "nbconvert_exporter": "python",
      "pygments_lexer": "ipython2",
      "version": "2.7.6"
    },
    "kernelspec": {
      "name": "python3",
      "language": "python",
      "display_name": "Python 3"
    },
    "stem_cell": {
      "cell_type": "raw",
      "source": "",
      "metadata": {
        "pycharm": {
          "metadata": false
        }
      }
    }
  },
  "nbformat": 4,
  "nbformat_minor": 0
}