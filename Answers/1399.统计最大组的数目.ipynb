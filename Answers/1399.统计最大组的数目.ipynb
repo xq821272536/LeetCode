{
 "cells": [
  {
   "cell_type": "markdown",
   "metadata": {},
   "source": [
    "    执行用时 :68 ms, 在所有 Python 提交中击败了92.86%的用户\n",
    "    内存消耗 :13 MB, 在所有 Python 提交中击败了100.00%的用户"
   ]
  },
  {
   "cell_type": "code",
   "execution_count": null,
   "metadata": {},
   "outputs": [],
   "source": [
    "class Solution(object):\n",
    "    def countLargestGroup(self, n):\n",
    "        \"\"\"\n",
    "        :type n: int\n",
    "        :rtype: int\n",
    "        \"\"\"\n",
    "        dirt = {x:[] for x in range(1, 40)}\n",
    "        for i in range(1, n+1):\n",
    "            num = 0\n",
    "            t = i\n",
    "            while t // 10 != 0:\n",
    "                num += t % 10\n",
    "                t //= 10\n",
    "            num += t\n",
    "            dirt[num] += [i]\n",
    "        f = list(map(lambda x:len(x), dirt.values()))\n",
    "        Max = max(f)\n",
    "        lis = [x for x in f if x == Max]\n",
    "        return len(lis)\n",
    "        "
   ]
  }
 ],
 "metadata": {
  "kernelspec": {
   "display_name": "Python 3",
   "language": "python",
   "name": "python3"
  },
  "language_info": {
   "codemirror_mode": {
    "name": "ipython",
    "version": 3
   },
   "file_extension": ".py",
   "mimetype": "text/x-python",
   "name": "python",
   "nbconvert_exporter": "python",
   "pygments_lexer": "ipython3",
   "version": "3.6.5"
  }
 },
 "nbformat": 4,
 "nbformat_minor": 2
}
