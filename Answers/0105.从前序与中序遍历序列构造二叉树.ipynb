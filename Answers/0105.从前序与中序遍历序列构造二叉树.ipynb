{
 "cells": [
  {
   "cell_type": "markdown",
   "metadata": {},
   "source": [
    "    执行用时 :148 ms, 在所有 Python 提交中击败了73.79%的用户\n",
    "    内存消耗 :87 MB, 在所有 Python 提交中击败了11.11%的用户"
   ]
  },
  {
   "cell_type": "code",
   "execution_count": null,
   "metadata": {},
   "outputs": [],
   "source": [
    "# Definition for a binary tree node.\n",
    "# class TreeNode(object):\n",
    "#     def __init__(self, x):\n",
    "#         self.val = x\n",
    "#         self.left = None\n",
    "#         self.right = None\n",
    "\n",
    "class Solution(object):\n",
    "    def buildTree(self, preorder, inorder):\n",
    "        \"\"\"\n",
    "        :type preorder: List[int]\n",
    "        :type inorder: List[int]\n",
    "        :rtype: TreeNode\n",
    "        \"\"\"\n",
    "        if len(inorder) == 0:\n",
    "            return None\n",
    "        # 前序遍历第一个值为根节点\n",
    "        root = TreeNode(preorder[0])\n",
    "        # 因为没有重复元素，所以可以直接根据值来查找根节点在中序遍历中的位置\n",
    "        mid = inorder.index(preorder[0])\n",
    "        # 构建左子树\n",
    "        root.left = self.buildTree(preorder[1:mid+1], inorder[:mid])\n",
    "        # 构建右子树\n",
    "        root.right = self.buildTree(preorder[mid+1:], inorder[mid+1:])\n",
    "        \n",
    "        return root"
   ]
  }
 ],
 "metadata": {
  "kernelspec": {
   "display_name": "Python 3",
   "language": "python",
   "name": "python3"
  },
  "language_info": {
   "codemirror_mode": {
    "name": "ipython",
    "version": 3
   },
   "file_extension": ".py",
   "mimetype": "text/x-python",
   "name": "python",
   "nbconvert_exporter": "python",
   "pygments_lexer": "ipython3",
   "version": "3.6.5"
  }
 },
 "nbformat": 4,
 "nbformat_minor": 2
}
