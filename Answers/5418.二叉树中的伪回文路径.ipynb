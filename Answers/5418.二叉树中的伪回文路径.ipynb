{
 "cells": [
  {
   "cell_type": "markdown",
   "metadata": {},
   "source": [
    "    执行用时 :620 ms, 在所有 Python 提交中击败了100.00%的用户\n",
    "    内存消耗 :89.4 MB, 在所有 Python 提交中击败了100.00%的用户"
   ]
  },
  {
   "cell_type": "code",
   "execution_count": 18,
   "metadata": {},
   "outputs": [],
   "source": [
    "# Definition for a binary tree node.\n",
    "class TreeNode(object):\n",
    "    def __init__(self, val=0, left=None, right=None):\n",
    "        self.val = val\n",
    "        self.left = left\n",
    "        self.right = right\n",
    "\n",
    "class Solution(object):\n",
    "    def pseudoPalindromicPaths (self, root, lis=[]):\n",
    "        \"\"\"\n",
    "        :type root: TreeNode\n",
    "        :rtype: int\n",
    "        \"\"\"\n",
    "        if root == None:\n",
    "            return 0\n",
    "        if root.left == None and root.right == None:\n",
    "            return self.ispseu(lis + [root.val])\n",
    "        l = self.pseudoPalindromicPaths(root.left, lis+[root.val])\n",
    "        r = self.pseudoPalindromicPaths(root.right, lis+[root.val])\n",
    "        return l + r\n",
    "    \n",
    "    def ispseu(self, lis):\n",
    "        dic = {}\n",
    "        for i in lis:\n",
    "            if i in dic:\n",
    "                del dic[i]\n",
    "            else:\n",
    "                dic[i] = 1\n",
    "        return 1 if len(dic) == 1 or len(dic) == 0 else 0\n",
    "                "
   ]
  },
  {
   "cell_type": "code",
   "execution_count": 19,
   "metadata": {},
   "outputs": [
    {
     "data": {
      "text/plain": [
       "1"
      ]
     },
     "execution_count": 19,
     "metadata": {},
     "output_type": "execute_result"
    }
   ],
   "source": [
    "root = [2,3,1,3,1,None,1]\n",
    "root = \n",
    "Solution().ispseu([2, 3, 3, 2])"
   ]
  },
  {
   "cell_type": "code",
   "execution_count": null,
   "metadata": {},
   "outputs": [],
   "source": []
  }
 ],
 "metadata": {
  "kernelspec": {
   "display_name": "Python 3",
   "language": "python",
   "name": "python3"
  },
  "language_info": {
   "codemirror_mode": {
    "name": "ipython",
    "version": 3
   },
   "file_extension": ".py",
   "mimetype": "text/x-python",
   "name": "python",
   "nbconvert_exporter": "python",
   "pygments_lexer": "ipython3",
   "version": "3.6.5"
  }
 },
 "nbformat": 4,
 "nbformat_minor": 2
}
