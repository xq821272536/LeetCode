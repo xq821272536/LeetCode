{
 "cells": [
  {
   "cell_type": "markdown",
   "metadata": {},
   "source": [
    "    执行用时 :20 ms, 在所有 Python 提交中击败了89.55%的用户\n",
    "    内存消耗 :12.6 MB, 在所有 Python 提交中击败了100.00%的用户"
   ]
  },
  {
   "cell_type": "code",
   "execution_count": null,
   "metadata": {},
   "outputs": [],
   "source": [
    "nums = [1,1]\n",
    "class Solution(object):\n",
    "    def findMinFibonacciNumbers(self, k):\n",
    "        \"\"\"\n",
    "        :type k: int\n",
    "        :rtype: int\n",
    "        \"\"\"\n",
    "        while nums[-1] < k:\n",
    "            nums.append(nums[-1] + nums[-2])\n",
    "        step = 0\n",
    "        S = 0\n",
    "        j = len(nums)-2\n",
    "        while S != k:\n",
    "            if S + nums[j] > k:\n",
    "                j -= 1\n",
    "            else:\n",
    "                step += 1\n",
    "                S += nums[j]\n",
    "        return step"
   ]
  }
 ],
 "metadata": {
  "kernelspec": {
   "display_name": "Python 3",
   "language": "python",
   "name": "python3"
  },
  "language_info": {
   "codemirror_mode": {
    "name": "ipython",
    "version": 3
   },
   "file_extension": ".py",
   "mimetype": "text/x-python",
   "name": "python",
   "nbconvert_exporter": "python",
   "pygments_lexer": "ipython3",
   "version": "3.6.5"
  }
 },
 "nbformat": 4,
 "nbformat_minor": 2
}
