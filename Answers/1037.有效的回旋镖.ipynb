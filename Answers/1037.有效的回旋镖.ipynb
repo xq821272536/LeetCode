{
 "cells": [
  {
   "attachments": {
    "image.png": {
     "image/png": "[encoded data removed]"
    }
   },
   "cell_type": "markdown",
   "metadata": {},
   "source": [
    "![image.png](attachment:image.png)\n",
    "# 思路\n",
    "* 记这三个点为a,b,c。\n",
    "* 先算出ab,ac间的坐标差，分别记作dx1, dx2, dy1, dy2。\n",
    "* 当这四个值都不为0时，只要dx1/dx2 == dy1/dy2，即三点在一条直线上，构不成三角形。\n",
    "\n",
    "下面来看存在0的情况：\n",
    "\n",
    "是否存在0 | 情况 | 能否构成三角形\n",
    ":-: | :-: \n",
    "dx1 = 0 且 dx2 = 0 | 三点在一条垂线上 | 不能\n",
    "dy1 = 0 且 dy2 = 0 | 三点在一条水平上 | 不能\n",
    "dx1 = 0 且 dy1 = 0 | 两点重合 | 不能\n",
    "dx2 = 0 且 dy2 = 0 | 两点重合 | 不能"
   ]
  },
  {
   "cell_type": "code",
   "execution_count": 51,
   "metadata": {},
   "outputs": [],
   "source": [
    "class Solution(object):\n",
    "    def isBoomerang(self, points):\n",
    "        \"\"\"\n",
    "        :type points: List[List[int]]\n",
    "        :rtype: bool\n",
    "        \"\"\"\n",
    "        a, b, c = sorted(points)\n",
    "        dx1 = b[0] - a[0]\n",
    "        dx2 = c[0] - a[0]\n",
    "        dy1 = b[1] - a[1]\n",
    "        dy2 = c[1] - a[1]\n",
    "        print(dx1, dx2, dy1, dy2)\n",
    "        if dx1 == 0 and dx2 == 0 or \\\n",
    "            dx1 == 0 and dy1 == 0 or \\\n",
    "            dx2 == 0 and dy2 == 0 or \\\n",
    "            dy1 == 0 and dy2 == 0:\n",
    "            return False\n",
    "        if 0 in [dx1, dx2, dy1, dy2]:\n",
    "            return True\n",
    "        if dx1*1. / dx2 == dy1*1. / dy2:\n",
    "            return False\n",
    "        return True"
   ]
  },
  {
   "cell_type": "code",
   "execution_count": 52,
   "metadata": {},
   "outputs": [
    {
     "name": "stdout",
     "output_type": "stream",
     "text": [
      "3 49 32 54\n"
     ]
    },
    {
     "data": {
      "text/plain": [
       "True"
      ]
     },
     "execution_count": 52,
     "metadata": {},
     "output_type": "execute_result"
    }
   ],
   "source": [
    "points = [[21,52],[18,20],[67,74]]\n",
    "Solution().isBoomerang(points)"
   ]
  },
  {
   "cell_type": "code",
   "execution_count": null,
   "metadata": {},
   "outputs": [],
   "source": []
  },
  {
   "cell_type": "code",
   "execution_count": null,
   "metadata": {},
   "outputs": [],
   "source": []
  }
 ],
 "metadata": {
  "kernelspec": {
   "display_name": "Python 3",
   "language": "python",
   "name": "python3"
  },
  "language_info": {
   "codemirror_mode": {
    "name": "ipython",
    "version": 3
   },
   "file_extension": ".py",
   "mimetype": "text/x-python",
   "name": "python",
   "nbconvert_exporter": "python",
   "pygments_lexer": "ipython3",
   "version": "3.6.5"
  }
 },
 "nbformat": 4,
 "nbformat_minor": 2
}
