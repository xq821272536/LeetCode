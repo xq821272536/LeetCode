{
 "cells": [
  {
   "cell_type": "markdown",
   "metadata": {},
   "source": [
    "    执行用时 :324 ms, 在所有 Python 提交中击败了18.68%的用户\n",
    "    内存消耗 :13.9 MB, 在所有 Python 提交中击败了100.00%的用户\n",
    "# 思路\n",
    "* 当前s和当前t、s.left和t、s.right和t任意一个组合匹配上了，都返回Ture\n",
    "* 判断是否匹配的方法：当前值相等且对应左右子树都能匹配上。"
   ]
  },
  {
   "cell_type": "code",
   "execution_count": null,
   "metadata": {},
   "outputs": [],
   "source": [
    "# Definition for a binary tree node.\n",
    "# class TreeNode(object):\n",
    "#     def __init__(self, val=0, left=None, right=None):\n",
    "#         self.val = val\n",
    "#         self.left = left\n",
    "#         self.right = right\n",
    "class Solution(object):\n",
    "    # 当前s和当前t、s.left和t、s.right和t任意一个组合匹配上了，都返回Ture\n",
    "    def isSubtree(self, s, t):\n",
    "        \"\"\"\n",
    "        :type s: TreeNode\n",
    "        :type t: TreeNode\n",
    "        :rtype: bool\n",
    "        \"\"\"\n",
    "        if t == None:\n",
    "            return True\n",
    "        if s == None:\n",
    "            return False\n",
    "        return self.sub(s, t) or self.isSubtree(s.left, t) or self.isSubtree(s.right, t)\n",
    "    # 判断是否匹配的函数\n",
    "    def sub(self, s, t):\n",
    "        if t == None and s == None:\n",
    "            return True\n",
    "        if t == None or s == None:\n",
    "            return False\n",
    "        if s.val == t.val and self.sub(s.left, t.left) and self.sub(s.right, t.right):\n",
    "            return True\n",
    "        return False"
   ]
  }
 ],
 "metadata": {
  "kernelspec": {
   "display_name": "Python 3",
   "language": "python",
   "name": "python3"
  },
  "language_info": {
   "codemirror_mode": {
    "name": "ipython",
    "version": 3
   },
   "file_extension": ".py",
   "mimetype": "text/x-python",
   "name": "python",
   "nbconvert_exporter": "python",
   "pygments_lexer": "ipython3",
   "version": "3.6.5"
  }
 },
 "nbformat": 4,
 "nbformat_minor": 2
}
