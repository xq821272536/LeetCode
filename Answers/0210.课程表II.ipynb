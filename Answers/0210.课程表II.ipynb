{
 "cells": [
  {
   "cell_type": "markdown",
   "metadata": {},
   "source": [
    "    执行用时 :32 ms, 在所有 Python 提交中击败了75.68%的用户\n",
    "    内存消耗 :13.8 MB, 在所有 Python 提交中击败了100.00%的用户"
   ]
  },
  {
   "cell_type": "code",
   "execution_count": 37,
   "metadata": {},
   "outputs": [],
   "source": [
    "import collections\n",
    "class Solution(object):\n",
    "    def findOrder(self, numCourses, prerequisites):\n",
    "        \"\"\"\n",
    "        :type numCourses: int\n",
    "        :type prerequisites: List[List[int]]\n",
    "        :rtype: List[int]\n",
    "        \"\"\"\n",
    "        edges = collections.defaultdict(list)\n",
    "        # 存储每个节点的入度\n",
    "        indeg = [0] * numCourses\n",
    "        # 存储答案\n",
    "        result = list()\n",
    "\n",
    "        for info in prerequisites:\n",
    "            edges[info[1]].append(info[0])\n",
    "            indeg[info[0]] += 1\n",
    "        \n",
    "        # 将所有入度为 0 的节点放入队列中\n",
    "        q = collections.deque([u for u in range(numCourses) if indeg[u] == 0])\n",
    "\n",
    "        while q:\n",
    "            # 从队首取出一个节点\n",
    "            u = q.popleft()\n",
    "            # 放入答案中\n",
    "            result.append(u)\n",
    "            for v in edges[u]:\n",
    "                indeg[v] -= 1\n",
    "                # 如果相邻节点 v 的入度为 0，就可以选 v 对应的课程了\n",
    "                if indeg[v] == 0:\n",
    "                    q.append(v)\n",
    "\n",
    "        if len(result) != numCourses:\n",
    "            result = list()\n",
    "        return result"
   ]
  },
  {
   "cell_type": "code",
   "execution_count": 38,
   "metadata": {},
   "outputs": [
    {
     "data": {
      "text/plain": [
       "[0, 1, 2, 3]"
      ]
     },
     "execution_count": 38,
     "metadata": {},
     "output_type": "execute_result"
    }
   ],
   "source": [
    "numCourses = 4\n",
    "prerequisites = [[1,0],[2,0],[3,1],[3,2]]\n",
    "Solution().findOrder(numCourses, prerequisites)"
   ]
  },
  {
   "cell_type": "code",
   "execution_count": null,
   "metadata": {},
   "outputs": [],
   "source": []
  }
 ],
 "metadata": {
  "kernelspec": {
   "display_name": "Python 3",
   "language": "python",
   "name": "python3"
  },
  "language_info": {
   "codemirror_mode": {
    "name": "ipython",
    "version": 3
   },
   "file_extension": ".py",
   "mimetype": "text/x-python",
   "name": "python",
   "nbconvert_exporter": "python",
   "pygments_lexer": "ipython3",
   "version": "3.6.5"
  }
 },
 "nbformat": 4,
 "nbformat_minor": 2
}
