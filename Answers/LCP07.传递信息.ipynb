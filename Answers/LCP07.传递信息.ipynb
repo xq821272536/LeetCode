{
 "cells": [
  {
   "cell_type": "markdown",
   "metadata": {},
   "source": [
    "    执行用时 :20 ms, 在所有 Python 提交中击败了89.84%的用户\n",
    "    内存消耗 :12.7 MB, 在所有 Python 提交中击败了100.00%的用户\n",
    "# 思路\n",
    "状态转移矩阵\n",
    "# 代码"
   ]
  },
  {
   "cell_type": "code",
   "execution_count": null,
   "metadata": {},
   "outputs": [],
   "source": [
    "class Solution(object):\n",
    "    def numWays(self, n, relation, k):\n",
    "        \"\"\"\n",
    "        :type n: int\n",
    "        :type relation: List[List[int]]\n",
    "        :type k: int\n",
    "        :rtype: int\n",
    "        \"\"\"\n",
    "        array_res = []\n",
    "        for i in range(n):\n",
    "            array_res.append([0 for x in range(n)])\n",
    "        for i in relation:\n",
    "            array_res[i[0]][i[1]] += 1\n",
    "        \n",
    "        res = array_res\n",
    "        for _ in range(k-1):\n",
    "            res = self.fun(res, array_res)\n",
    "        return int(res[0][n-1])\n",
    "    \n",
    "    def fun(self, a, b):\n",
    "        array_add = []\n",
    "        for i in range(len(a)):\n",
    "            array_add.append([0 for x in range(len(a))])\n",
    "        for i in range(len(a)):\n",
    "            for j in range(len(b[0])):\n",
    "                for h in range(len(a[0])):\n",
    "                    array_add[i][j] = array_add[i][j] +a[i][h] * b[h][j]\n",
    "        return array_add"
   ]
  }
 ],
 "metadata": {
  "kernelspec": {
   "display_name": "Python 3",
   "language": "python",
   "name": "python3"
  },
  "language_info": {
   "codemirror_mode": {
    "name": "ipython",
    "version": 3
   },
   "file_extension": ".py",
   "mimetype": "text/x-python",
   "name": "python",
   "nbconvert_exporter": "python",
   "pygments_lexer": "ipython3",
   "version": "3.6.5"
  }
 },
 "nbformat": 4,
 "nbformat_minor": 2
}
