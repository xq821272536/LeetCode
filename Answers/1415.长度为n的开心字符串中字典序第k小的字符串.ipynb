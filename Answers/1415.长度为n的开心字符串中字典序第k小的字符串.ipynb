{
 "cells": [
  {
   "cell_type": "markdown",
   "metadata": {},
   "source": [
    "    执行用时 :28 ms, 在所有 Python 提交中击败了70.00%的用户\n",
    "    内存消耗 :12.6 MB, 在所有 Python 提交中击败了100.00%的用户"
   ]
  },
  {
   "cell_type": "code",
   "execution_count": null,
   "metadata": {},
   "outputs": [],
   "source": [
    "class Solution(object):\n",
    "    def getHappyString(self, n, k):\n",
    "        \"\"\"\n",
    "        :type n: int\n",
    "        :type k: int\n",
    "        :rtype: str\n",
    "        \"\"\"\n",
    "        if n < 2:\n",
    "            if k == 1:\n",
    "                return 'a'\n",
    "            if k == 2:\n",
    "                return 'b'\n",
    "            if k == 3:\n",
    "                return 'c'\n",
    "            return ''\n",
    "        q = [2]\n",
    "        for _ in range(n-2):\n",
    "            q = [q[0]*2] + q\n",
    "        q = [3*q[0]] + q\n",
    "        \n",
    "        if 0 < k <= q[1]:\n",
    "            return 'a' + self.fun(n-1, k, q[1:], 'bc')\n",
    "        if q[1] < k <= 2*q[1]:\n",
    "            return 'b' + self.fun(n-1, k-q[1], q[1:], 'ac')\n",
    "        if 2*q[1] < k <= 3*q[1]:\n",
    "            return 'c' + self.fun(n-1, k-2*q[1], q[1:], 'ab')\n",
    "        return ''\n",
    "    def fun(self, n, k, q, sta):\n",
    "        if n == 1:\n",
    "            if k == 1:\n",
    "                return 'a' if 'a' in sta else 'b'\n",
    "            if k == 2:\n",
    "                return 'c' if 'c' in sta else 'b'\n",
    "\n",
    "        if 0 < k <= q[1]:\n",
    "            return 'a' + self.fun(n-1, k, q[1:], 'bc') if 'a' in sta else 'b' + self.fun(n-1, k, q[1:], 'ac')\n",
    "        if q[1] < k <= 2*q[1]:\n",
    "            return 'c' + self.fun(n-1, k-q[1], q[1:], 'ab') if 'c' in sta else 'b' + self.fun(n-1, k-q[1], q[1:], 'ac')\n",
    "        return ''"
   ]
  }
 ],
 "metadata": {
  "kernelspec": {
   "display_name": "Python 3",
   "language": "python",
   "name": "python3"
  },
  "language_info": {
   "codemirror_mode": {
    "name": "ipython",
    "version": 3
   },
   "file_extension": ".py",
   "mimetype": "text/x-python",
   "name": "python",
   "nbconvert_exporter": "python",
   "pygments_lexer": "ipython3",
   "version": "3.6.5"
  }
 },
 "nbformat": 4,
 "nbformat_minor": 2
}
