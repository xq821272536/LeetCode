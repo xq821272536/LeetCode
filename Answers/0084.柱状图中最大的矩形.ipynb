{
 "cells": [
  {
   "cell_type": "markdown",
   "metadata": {},
   "source": [
    "    执行用时 :72 ms, 在所有 Python 提交中击败了14.43%的用户\n",
    "    内存消耗 :15.2 MB, 在所有 Python 提交中击败了100.00%的用户"
   ]
  },
  {
   "cell_type": "code",
   "execution_count": null,
   "metadata": {},
   "outputs": [],
   "source": [
    "class Solution:\n",
    "    def largestRectangleArea(self, heights: List[int]) -> int:\n",
    "        n = len(heights)\n",
    "        left, right = [0] * n, [0] * n\n",
    "\n",
    "        mono_stack = list()\n",
    "        for i in range(n):\n",
    "            while mono_stack and heights[mono_stack[-1]] >= heights[i]:\n",
    "                mono_stack.pop()\n",
    "            left[i] = mono_stack[-1] if mono_stack else -1\n",
    "            mono_stack.append(i)\n",
    "        \n",
    "        mono_stack = list()\n",
    "        for i in range(n - 1, -1, -1):\n",
    "            while mono_stack and heights[mono_stack[-1]] >= heights[i]:\n",
    "                mono_stack.pop()\n",
    "            right[i] = mono_stack[-1] if mono_stack else n\n",
    "            mono_stack.append(i)\n",
    "        \n",
    "        ans = max((right[i] - left[i] - 1) * heights[i] for i in range(n)) if n > 0 else 0\n",
    "        return ans"
   ]
  }
 ],
 "metadata": {
  "kernelspec": {
   "display_name": "Python 3",
   "language": "python",
   "name": "python3"
  },
  "language_info": {
   "codemirror_mode": {
    "name": "ipython",
    "version": 3
   },
   "file_extension": ".py",
   "mimetype": "text/x-python",
   "name": "python",
   "nbconvert_exporter": "python",
   "pygments_lexer": "ipython3",
   "version": "3.6.5"
  }
 },
 "nbformat": 4,
 "nbformat_minor": 2
}
