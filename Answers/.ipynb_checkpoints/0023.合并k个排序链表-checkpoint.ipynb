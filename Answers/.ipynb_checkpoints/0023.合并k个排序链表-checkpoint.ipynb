{
 "cells": [
  {
   "cell_type": "code",
   "execution_count": null,
   "metadata": {},
   "outputs": [],
   "source": []
  },
  {
   "cell_type": "code",
   "execution_count": 2,
   "metadata": {},
   "outputs": [],
   "source": [
    "# Definition for singly-linked list.\n",
    "class ListNode(object):\n",
    "    def __init__(self, x):\n",
    "        self.val = x\n",
    "        self.next = None\n",
    "def createListNode(lis):\n",
    "    head = ListNode(lis[0])\n",
    "    p = head\n",
    "    for i in range(1, len(lis)):\n",
    "        t = ListNode(lis[i])\n",
    "        p.next = t\n",
    "        p = p.next\n",
    "        t = t.next\n",
    "    return head"
   ]
  },
  {
   "cell_type": "code",
   "execution_count": 4,
   "metadata": {
    "pycharm": {
     "is_executing": false,
     "metadata": false,
     "name": "#%%\n"
    }
   },
   "outputs": [],
   "source": [
    "# Definition for singly-linked list.\n",
    "# class ListNode(object):\n",
    "#     def __init__(self, x):\n",
    "#         self.val = x\n",
    "#         self.next = None\n",
    "\n",
    "class Solution(object):\n",
    "    def mergeKLists(self, lists):\n",
    "        \"\"\"\n",
    "        :type lists: List[ListNode]\n",
    "        :rtype: ListNode\n",
    "        \"\"\"\n",
    "        while None in lists:\n",
    "            lists.remove(None)\n",
    "        resNode = None\n",
    "        while lists != []:\n",
    "            mi = min(lists, key=lambda x:x.val)\n",
    "            if resNode == None:\n",
    "                resNode = mi\n",
    "                p = mi\n",
    "            else:\n",
    "                p.next = mi\n",
    "                p = p.next\n",
    "            t = mi.next\n",
    "            lists.remove(mi)\n",
    "            if not t is None:\n",
    "                lists.append(t)\n",
    "        return resNode"
   ]
  },
  {
   "cell_type": "code",
   "execution_count": 6,
   "metadata": {},
   "outputs": [
    {
     "data": {
      "text/plain": [
       "<__main__.ListNode at 0x191673f2c88>"
      ]
     },
     "execution_count": 6,
     "metadata": {},
     "output_type": "execute_result"
    }
   ],
   "source": [
    "a = createListNode([1,4,5])\n",
    "b = createListNode([1,3,4])\n",
    "c = createListNode([2,6])\n",
    "Solution().mergeKLists([a,b,c])"
   ]
  },
  {
   "cell_type": "code",
   "execution_count": null,
   "metadata": {},
   "outputs": [],
   "source": []
  }
 ],
 "metadata": {
  "kernelspec": {
   "display_name": "Python 3",
   "language": "python",
   "name": "python3"
  },
  "language_info": {
   "codemirror_mode": {
    "name": "ipython",
    "version": 3
   },
   "file_extension": ".py",
   "mimetype": "text/x-python",
   "name": "python",
   "nbconvert_exporter": "python",
   "pygments_lexer": "ipython3",
   "version": "3.6.5"
  },
  "stem_cell": {
   "cell_type": "raw",
   "metadata": {
    "pycharm": {
     "metadata": false
    }
   },
   "source": ""
  }
 },
 "nbformat": 4,
 "nbformat_minor": 1
}
