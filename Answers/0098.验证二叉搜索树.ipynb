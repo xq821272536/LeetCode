{
 "cells": [
  {
   "cell_type": "markdown",
   "metadata": {},
   "source": [
    "    执行用时 :40 ms, 在所有 Python 提交中击败了56.16%的用户\n",
    "    内存消耗 :17.6 MB, 在所有 Python 提交中击败了20.00%的用户\n",
    "# 思路\n",
    "递归判断每颗子树是否为二叉搜索树，如果是，返回当前二叉搜索树的左边界与有边界。\n",
    "# 代码"
   ]
  },
  {
   "cell_type": "code",
   "execution_count": 1,
   "metadata": {},
   "outputs": [],
   "source": [
    "# Definition for a binary tree node.\n",
    "class TreeNode(object):\n",
    "    def __init__(self, x):\n",
    "        self.val = x\n",
    "        self.left = None\n",
    "        self.right = None"
   ]
  },
  {
   "cell_type": "code",
   "execution_count": null,
   "metadata": {},
   "outputs": [],
   "source": [
    "class Solution(object):\n",
    "    def isValidBST(self, root):\n",
    "        \"\"\"\n",
    "        :type root: TreeNode\n",
    "        :rtype: bool\n",
    "        \"\"\"\n",
    "        if root == None:\n",
    "            return True\n",
    "        res = self.subisVBST(root)\n",
    "        if isinstance(res, bool):\n",
    "            return False\n",
    "        return True\n",
    "        \n",
    "    def subisVBST(self, root):\n",
    "        if root.left == None and root.right == None:\n",
    "            return root.val, root.val\n",
    "        if root.left == None:\n",
    "            resr = self.subisVBST(root.right)\n",
    "            if isinstance(resr, bool) or root.val >= resr[0]:\n",
    "                return False\n",
    "            return root.val, resr[1]\n",
    "        if root.right == None:\n",
    "            resl = self.subisVBST(root.left)\n",
    "            if isinstance(resl, bool) or root.val <= resl[1]:\n",
    "                return False\n",
    "            return resl[0], root.val\n",
    "        resl = self.subisVBST(root.left)\n",
    "        resr = self.subisVBST(root.right)\n",
    "        if isinstance(resl, bool) or isinstance(resr, bool) or resl[1] >= root.val or root.val >= resr[0]:\n",
    "            return False\n",
    "        return resl[0], resr[1]"
   ]
  }
 ],
 "metadata": {
  "kernelspec": {
   "display_name": "Python 3",
   "language": "python",
   "name": "python3"
  },
  "language_info": {
   "codemirror_mode": {
    "name": "ipython",
    "version": 3
   },
   "file_extension": ".py",
   "mimetype": "text/x-python",
   "name": "python",
   "nbconvert_exporter": "python",
   "pygments_lexer": "ipython3",
   "version": "3.6.5"
  }
 },
 "nbformat": 4,
 "nbformat_minor": 2
}
