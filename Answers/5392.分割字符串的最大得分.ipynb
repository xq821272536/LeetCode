{
 "cells": [
  {
   "attachments": {},
   "cell_type": "markdown",
   "metadata": {
    "pycharm": {
     "metadata": false,
     "name": "#%%heading\n"
    }
   },
   "source": [
    "    执行用时 :12 ms, 在所有 Python 提交中击败了100%的用户\n",
    "    内存消耗 :12.7 MB, 在所有 Python 提交中击败了100%的用户\n",
    "# 思路\n",
    "遍历所有可行的分割方法，记录，返回最大值\n",
    "\n",
    "# 代码"
   ]
  },
  {
   "cell_type": "code",
   "execution_count": 1,
   "metadata": {
    "collapsed": true,
    "pycharm": {
     "is_executing": false
    }
   },
   "outputs": [],
   "source": [
    "class Solution(object):\n",
    "    def maxScore(self, s):\n",
    "        \"\"\"\n",
    "        :type s: str\n",
    "        :rtype: int\n",
    "        \"\"\"\n",
    "        reslist = []\n",
    "        # l和r分别表示左右两边各多少分\n",
    "        l, r = 0, s.count('1')\n",
    "        for i in range(len(s)-1):\n",
    "            # 当前值为0，则左边多一个0多一分；否则，右边少一个1少一分。\n",
    "            if s[i] == '0':\n",
    "                l += 1\n",
    "            else:\n",
    "                r -= 1\n",
    "            reslist.append(l+r)\n",
    "        return max(reslist)"
   ]
  },
  {
   "cell_type": "code",
   "execution_count": 3,
   "metadata": {
    "pycharm": {
     "is_executing": false,
     "metadata": false,
     "name": "#%%\n"
    }
   },
   "outputs": [
    {
     "data": {
      "text/plain": [
       "5"
      ]
     },
     "execution_count": 3,
     "metadata": {},
     "output_type": "execute_result"
    }
   ],
   "source": [
    "s = \"011101\"\n",
    "Solution().maxScore(s)"
   ]
  }
 ],
 "metadata": {
  "kernelspec": {
   "display_name": "Python 3",
   "language": "python",
   "name": "python3"
  },
  "language_info": {
   "codemirror_mode": {
    "name": "ipython",
    "version": 3
   },
   "file_extension": ".py",
   "mimetype": "text/x-python",
   "name": "python",
   "nbconvert_exporter": "python",
   "pygments_lexer": "ipython3",
   "version": "3.6.5"
  },
  "stem_cell": {
   "cell_type": "raw",
   "metadata": {
    "pycharm": {
     "metadata": false
    }
   },
   "source": ""
  }
 },
 "nbformat": 4,
 "nbformat_minor": 1
}
