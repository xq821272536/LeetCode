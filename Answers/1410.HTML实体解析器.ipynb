{
 "cells": [
  {
   "cell_type": "markdown",
   "metadata": {},
   "source": [
    "    执行用时 :488 ms, 在所有 Python 提交中击败了27.22%的用户\n",
    "    内存消耗 :16.3 MB, 在所有 Python 提交中击败了100.00%的用户"
   ]
  },
  {
   "cell_type": "code",
   "execution_count": null,
   "metadata": {},
   "outputs": [],
   "source": [
    "class Solution(object):\n",
    "    def entityParser(self, text):\n",
    "        \"\"\"\n",
    "        :type text: str\n",
    "        :rtype: str\n",
    "        \"\"\"\n",
    "        dirt = {'&quot;':'\"',\n",
    "                '&apos;':\"'\",\n",
    "                '&amp;':'&',\n",
    "                '&gt;':'>',\n",
    "                '&lt;':'<',\n",
    "                '&frasl;':'/'}\n",
    "        for i in range(len(text)-2):\n",
    "            if text[i:i+4] in dirt:\n",
    "                text = text.replace(text[i:i+4], dirt[text[i:i+4]])\n",
    "                continue\n",
    "            if text[i:i+5] in dirt:\n",
    "                text = text.replace(text[i:i+5], dirt[text[i:i+5]])\n",
    "                continue\n",
    "            if text[i:i+6] in dirt:\n",
    "                text = text.replace(text[i:i+6], dirt[text[i:i+6]])\n",
    "                continue\n",
    "            if text[i:i+7] in dirt:\n",
    "                text = text.replace(text[i:i+7], dirt[text[i:i+7]])\n",
    "                continue\n",
    "        return text"
   ]
  }
 ],
 "metadata": {
  "kernelspec": {
   "display_name": "Python 3",
   "language": "python",
   "name": "python3"
  },
  "language_info": {
   "codemirror_mode": {
    "name": "ipython",
    "version": 3
   },
   "file_extension": ".py",
   "mimetype": "text/x-python",
   "name": "python",
   "nbconvert_exporter": "python",
   "pygments_lexer": "ipython3",
   "version": "3.6.5"
  }
 },
 "nbformat": 4,
 "nbformat_minor": 2
}
