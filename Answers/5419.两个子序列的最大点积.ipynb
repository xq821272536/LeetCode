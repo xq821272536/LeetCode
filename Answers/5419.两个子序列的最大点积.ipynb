{
 "cells": [
  {
   "cell_type": "markdown",
   "metadata": {},
   "source": [
    "    执行用时 :724 ms, 在所有 Python 提交中击败了100.00%的用户\n",
    "    内存消耗 :49.8 MB, 在所有 Python 提交中击败了100.00%的用户"
   ]
  },
  {
   "cell_type": "code",
   "execution_count": 296,
   "metadata": {},
   "outputs": [],
   "source": [
    "class Solution(object):\n",
    "    def maxDotProduct(self, nums1, nums2):\n",
    "        \"\"\"\n",
    "        :type nums1: List[int]\n",
    "        :type nums2: List[int]\n",
    "        :rtype: int\n",
    "        \"\"\"\n",
    "        res = -99999\n",
    "        if len(nums1) == 0 or len(nums2) == 0:\n",
    "            return 0\n",
    "        while 0 in nums1:\n",
    "            nums1.remove(0)\n",
    "        while 0 in nums2:\n",
    "            nums2.remove(0)\n",
    "        l1 = len(nums1)\n",
    "        l2 = len(nums2)\n",
    "        dic = {}\n",
    "        for i in range(l1):\n",
    "            for j in range(l2):\n",
    "                if i == j == 0:\n",
    "                    dic[(i, j)] = nums1[0] * nums2[0]\n",
    "                    continue\n",
    "                t = nums1[i] * nums2[j]\n",
    "                tleft = -99999 if j == 0 else max(dic[(i, j-1)], t)\n",
    "                tup = -99999 if i == 0 else max(dic[(i-1, j)], t)\n",
    "                tlu = -99999 if i == 0 or j == 0 else max(dic[(i-1, j-1)], dic[(i-1, j-1)] + t, t)\n",
    "                dic[(i, j)] = max(tleft, tup, tlu)\n",
    "        return dic[l1-1, l2-1]"
   ]
  },
  {
   "cell_type": "code",
   "execution_count": 295,
   "metadata": {
    "scrolled": false
   },
   "outputs": [
    {
     "data": {
      "text/plain": [
       "-1"
      ]
     },
     "execution_count": 295,
     "metadata": {},
     "output_type": "execute_result"
    }
   ],
   "source": [
    "# nums1 = [7,2,2,-1,-1,1,-4,7,6]\n",
    "# nums2 = [-7,-9,-1,2,2,5,-7,2,-7,5]\n",
    "nums1 = [-1,-1]\n",
    "nums2 = [1,1]\n",
    "Solution().maxDotProduct(nums1, nums2)"
   ]
  },
  {
   "cell_type": "code",
   "execution_count": null,
   "metadata": {},
   "outputs": [],
   "source": []
  },
  {
   "cell_type": "code",
   "execution_count": null,
   "metadata": {},
   "outputs": [],
   "source": []
  }
 ],
 "metadata": {
  "kernelspec": {
   "display_name": "Python 3",
   "language": "python",
   "name": "python3"
  },
  "language_info": {
   "codemirror_mode": {
    "name": "ipython",
    "version": 3
   },
   "file_extension": ".py",
   "mimetype": "text/x-python",
   "name": "python",
   "nbconvert_exporter": "python",
   "pygments_lexer": "ipython3",
   "version": "3.6.5"
  }
 },
 "nbformat": 4,
 "nbformat_minor": 2
}
