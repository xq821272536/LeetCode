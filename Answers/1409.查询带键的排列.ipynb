{
 "cells": [
  {
   "cell_type": "markdown",
   "metadata": {},
   "source": [
    "    执行用时 :44 ms, 在所有 Python 提交中击败了66.19%的用户\n",
    "    内存消耗 :13 MB, 在所有 Python 提交中击败了100.00%的用户"
   ]
  },
  {
   "cell_type": "code",
   "execution_count": null,
   "metadata": {},
   "outputs": [],
   "source": [
    "class Solution(object):\n",
    "    def processQueries(self, queries, m):\n",
    "        \"\"\"\n",
    "        :type queries: List[int]\n",
    "        :type m: int\n",
    "        :rtype: List[int]\n",
    "        \"\"\"\n",
    "        p = [x for x in range(1, m+1)]\n",
    "        print(p)\n",
    "        res = []\n",
    "        for i in range(len(queries)):\n",
    "            num = queries[i]\n",
    "            index = p.index(num)\n",
    "            res.append(index)\n",
    "            p = [num] + p[:index] + p[index+1:]\n",
    "        return res"
   ]
  }
 ],
 "metadata": {
  "kernelspec": {
   "display_name": "Python 3",
   "language": "python",
   "name": "python3"
  },
  "language_info": {
   "codemirror_mode": {
    "name": "ipython",
    "version": 3
   },
   "file_extension": ".py",
   "mimetype": "text/x-python",
   "name": "python",
   "nbconvert_exporter": "python",
   "pygments_lexer": "ipython3",
   "version": "3.6.5"
  }
 },
 "nbformat": 4,
 "nbformat_minor": 2
}
