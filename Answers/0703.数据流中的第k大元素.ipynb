{
 "cells": [
  {
   "cell_type": "markdown",
   "metadata": {},
   "source": [
    "    执行用时：196 ms, 在所有 Python 提交中击败了28.10%的用户\n",
    "    内存消耗：16.8 MB, 在所有 Python 提交中击败了54.55%的用户"
   ]
  },
  {
   "cell_type": "code",
   "execution_count": null,
   "metadata": {},
   "outputs": [],
   "source": [
    "class KthLargest(object):\n",
    "    def __init__(self, k, nums):\n",
    "        \"\"\"\n",
    "        :type k: int\n",
    "        :type nums: List[int]\n",
    "        \"\"\"\n",
    "        self.k = k\n",
    "        if nums == []:\n",
    "            self.hp = []\n",
    "            return\n",
    "        self.hp = nums[:k]\n",
    "        for i in range((k - 1) // 2, -1, -1):\n",
    "            self.sink(i)\n",
    "        for i in range(k, len(nums)):\n",
    "            self.add(nums[i])\n",
    "\n",
    "    def add(self, val):\n",
    "        \"\"\"\n",
    "        :type val: int\n",
    "        :rtype: int\n",
    "        \"\"\"\n",
    "        if self.hp == []:\n",
    "            self.hp.append(val)\n",
    "            return self.hp[0]\n",
    "        if len(self.hp) < self.k:\n",
    "            self.hp.append(val)\n",
    "            self.sink(0)\n",
    "            return self.hp[0]\n",
    "        if val <= self.hp[0]:\n",
    "            return self.hp[0]\n",
    "        self.hp[0] = val\n",
    "        self.sink(0)\n",
    "        return self.hp[0]\n",
    "\n",
    "    def sink(self, i):\n",
    "        n = len(self.hp)\n",
    "        l = 2 * i + 1\n",
    "        r = 2 * i + 2\n",
    "        if l >= n:\n",
    "            return\n",
    "        min_i = l\n",
    "        if r < n and self.hp[r] < self.hp[l]:\n",
    "            min_i = r\n",
    "        if self.hp[i] > self.hp[min_i]:\n",
    "            self.hp[i], self.hp[min_i] = self.hp[min_i], self.hp[i]\n",
    "            self.sink(min_i)\n",
    "        \n",
    "\n",
    "\n",
    "# Your KthLargest object will be instantiated and called as such:\n",
    "# obj = KthLargest(k, nums)\n",
    "# param_1 = obj.add(val)"
   ]
  }
 ],
 "metadata": {
  "kernelspec": {
   "display_name": "Python 3",
   "language": "python",
   "name": "python3"
  },
  "language_info": {
   "codemirror_mode": {
    "name": "ipython",
    "version": 3
   },
   "file_extension": ".py",
   "mimetype": "text/x-python",
   "name": "python",
   "nbconvert_exporter": "python",
   "pygments_lexer": "ipython3",
   "version": "3.6.5"
  }
 },
 "nbformat": 4,
 "nbformat_minor": 2
}
