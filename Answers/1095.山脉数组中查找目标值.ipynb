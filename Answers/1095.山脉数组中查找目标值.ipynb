{
 "cells": [
  {
   "attachments": {
    "image.png": {
     "image/png": "[encoded data removed]"
    }
   },
   "cell_type": "markdown",
   "metadata": {},
   "source": [
    "![image.png](attachment:image.png)\n",
    "# 思路\n",
    "二分递归查找。记要查找的下标范围为[l, r]\n",
    "* 终止条件1：左端值等于目标值，返回（有端值等于目标值时不可返回，因为当数组中还有别的目标值时，这种方法返回的下标不是最小的）\n",
    "* 终止条件2：l和r相邻且都不等于目标值\n",
    "* 终止条件3：数组左端和有端值都大于目标值target，则数组中不存在target\n",
    "递归过程中，从数组中间二分，有两种情况："
   ]
  },
  {
   "attachments": {
    "image.png": {
     "image/png": "[encoded data removed]"
    }
   },
   "cell_type": "markdown",
   "metadata": {},
   "source": [
    "* 第一种：当array[l]，array[m]和array[r]单调时，target只存在于数组的一边：\n",
    "![image.png](attachment:image.png)\n",
    "* 第二种：除第一种情况外，其余情况下数组两边都有可能出现target，所以两边都找，然后返回最小的下标。\n",
    "# 代码"
   ]
  },
  {
   "cell_type": "code",
   "execution_count": 8,
   "metadata": {},
   "outputs": [],
   "source": [
    "# \"\"\"\n",
    "# This is MountainArray's API interface.\n",
    "# You should not implement it, or speculate about its implementation\n",
    "# \"\"\"\n",
    "class MountainArray():\n",
    "    def __init__(self, array):\n",
    "        self.array = array\n",
    "    def get(self, index):\n",
    "        \"\"\"\n",
    "        :type index: int\n",
    "        :rtype int\n",
    "        \"\"\"\n",
    "        return self.array[index]\n",
    "\n",
    "    def length(self):\n",
    "        \"\"\"\n",
    "        :rtype int\n",
    "        \"\"\"\n",
    "        return len(self.array)"
   ]
  },
  {
   "cell_type": "code",
   "execution_count": 42,
   "metadata": {},
   "outputs": [],
   "source": [
    "class Solution(object):\n",
    "    def findInMountainArray(self, target, mountain_arr):\n",
    "        \"\"\"\n",
    "        :type target: integer\n",
    "        :type mountain_arr: MountainArray\n",
    "        :rtype: integer\n",
    "        \"\"\"\n",
    "        # 在mountain_arr[l, r]中找target\n",
    "        n = mountain_arr.length()\n",
    "        l, r = 0, n-1\n",
    "        return self.subfindMA(target, mountain_arr, l, r)\n",
    "    \n",
    "    def subfindMA(self, target, mountain_arr, l, r):\n",
    "        nl, nr = mountain_arr.get(l), mountain_arr.get(r)\n",
    "        if nl == target:\n",
    "            return l\n",
    "        \n",
    "        # 终止条件1：如果l和r相邻，它俩中有target就返回索引，否则返回-1\n",
    "        if l >= r-1:\n",
    "            if nr == target:\n",
    "                return r\n",
    "            return -1\n",
    "        # 终止条件2：如果target比两端值都小，说明不存在\n",
    "        if target < nl and target < nr:\n",
    "            return -1\n",
    "        \n",
    "        # 二分递归找，2种情况\n",
    "        m = (l+r+1) // 2\n",
    "        nm = mountain_arr.get(m)\n",
    "        # 第1种\n",
    "        if nl < nm <= nr:\n",
    "            return self.subfindMA(target, mountain_arr, l+1, m) if target < nm \\\n",
    "                                    else self.subfindMA(target, mountain_arr, m, r)\n",
    "        if nl >= nm > nr:\n",
    "            return self.subfindMA(target, mountain_arr, m, r) if target < nm \\\n",
    "                                    else self.subfindMA(target, mountain_arr, l+1, m)\n",
    "        # 第2种\n",
    "        res1 = self.subfindMA(target, mountain_arr, l+1, m)\n",
    "        res2 = self.subfindMA(target, mountain_arr, m, r)\n",
    "        lis = []\n",
    "        if res1 >= 0:\n",
    "            lis.append(res1)\n",
    "        if res2 >= 0:\n",
    "            lis.append(res2)\n",
    "        print(lis)\n",
    "        return -1 if lis == [] else min(lis)"
   ]
  },
  {
   "cell_type": "code",
   "execution_count": 43,
   "metadata": {},
   "outputs": [
    {
     "name": "stdout",
     "output_type": "stream",
     "text": [
      "[2]\n"
     ]
    },
    {
     "data": {
      "text/plain": [
       "2"
      ]
     },
     "execution_count": 43,
     "metadata": {},
     "output_type": "execute_result"
    }
   ],
   "source": [
    "array = [1,5,2]\n",
    "target = 2\n",
    "arr = MountainArray(array)\n",
    "Solution().findInMountainArray(target, arr)"
   ]
  },
  {
   "cell_type": "code",
   "execution_count": null,
   "metadata": {},
   "outputs": [],
   "source": []
  },
  {
   "cell_type": "code",
   "execution_count": null,
   "metadata": {},
   "outputs": [],
   "source": []
  }
 ],
 "metadata": {
  "kernelspec": {
   "display_name": "Python 3",
   "language": "python",
   "name": "python3"
  },
  "language_info": {
   "codemirror_mode": {
    "name": "ipython",
    "version": 3
   },
   "file_extension": ".py",
   "mimetype": "text/x-python",
   "name": "python",
   "nbconvert_exporter": "python",
   "pygments_lexer": "ipython3",
   "version": "3.6.5"
  }
 },
 "nbformat": 4,
 "nbformat_minor": 2
}
