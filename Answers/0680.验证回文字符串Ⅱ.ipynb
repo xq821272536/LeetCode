{
 "cells": [
  {
   "cell_type": "markdown",
   "metadata": {},
   "source": [
    "    执行用时 :144 ms, 在所有 Python 提交中击败了22.54%的用户\n",
    "    内存消耗 :13.6 MB, 在所有 Python 提交中击败了100.00%的用户"
   ]
  },
  {
   "cell_type": "code",
   "execution_count": null,
   "metadata": {},
   "outputs": [],
   "source": [
    "class Solution(object):\n",
    "    def validPalindrome(self, s):\n",
    "        \"\"\"\n",
    "        :type s: str\n",
    "        :rtype: bool\n",
    "        \"\"\"\n",
    "        def checkPalindrome(low, high):\n",
    "            i, j = low, high\n",
    "            while i < j:\n",
    "                if s[i] != s[j]:\n",
    "                    return False\n",
    "                i += 1\n",
    "                j -= 1\n",
    "            return True\n",
    "\n",
    "        low, high = 0, len(s) - 1\n",
    "        while low < high:\n",
    "            if s[low] == s[high]: \n",
    "                low += 1\n",
    "                high -= 1\n",
    "            else:\n",
    "                return checkPalindrome(low + 1, high) or checkPalindrome(low, high - 1)\n",
    "        return True"
   ]
  }
 ],
 "metadata": {
  "kernelspec": {
   "display_name": "Python 3",
   "language": "python",
   "name": "python3"
  },
  "language_info": {
   "codemirror_mode": {
    "name": "ipython",
    "version": 3
   },
   "file_extension": ".py",
   "mimetype": "text/x-python",
   "name": "python",
   "nbconvert_exporter": "python",
   "pygments_lexer": "ipython3",
   "version": "3.6.5"
  }
 },
 "nbformat": 4,
 "nbformat_minor": 2
}
