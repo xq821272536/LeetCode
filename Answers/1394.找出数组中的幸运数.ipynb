{
 "cells": [
  {
   "cell_type": "markdown",
   "metadata": {},
   "source": [
    "    执行用时 :56 ms, 在所有 Python 提交中击败了23.18%的用户\n",
    "    内存消耗 :12.7 MB, 在所有 Python 提交中击败了100.00%的用户"
   ]
  },
  {
   "cell_type": "code",
   "execution_count": null,
   "metadata": {},
   "outputs": [],
   "source": [
    "class Solution(object):\n",
    "    def findLucky(self, arr):\n",
    "        \"\"\"\n",
    "        :type arr: List[int]\n",
    "        :rtype: int\n",
    "        \"\"\"\n",
    "        arr = sorted(arr)\n",
    "        l = len(arr)\n",
    "        if l == 1:\n",
    "            return 1 if arr[0] == 1 else -1\n",
    "        Max = -1\n",
    "        tm = 1\n",
    "        i = 1\n",
    "        while i < l:\n",
    "            if arr[i] == arr[i-1]:\n",
    "                tm += 1\n",
    "                i += 1\n",
    "                continue\n",
    "            if tm == arr[i-1]:\n",
    "                Max = tm\n",
    "            tm = 1\n",
    "            i += 1\n",
    "        if tm == arr[i-1]:\n",
    "            Max = tm\n",
    "            tm = 1\n",
    "        return Max"
   ]
  }
 ],
 "metadata": {
  "kernelspec": {
   "display_name": "Python 3",
   "language": "python",
   "name": "python3"
  },
  "language_info": {
   "codemirror_mode": {
    "name": "ipython",
    "version": 3
   },
   "file_extension": ".py",
   "mimetype": "text/x-python",
   "name": "python",
   "nbconvert_exporter": "python",
   "pygments_lexer": "ipython3",
   "version": "3.6.5"
  }
 },
 "nbformat": 4,
 "nbformat_minor": 2
}
