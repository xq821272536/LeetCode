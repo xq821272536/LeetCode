{
 "cells": [
  {
   "cell_type": "markdown",
   "metadata": {},
   "source": [
    "    执行用时 :140 ms, 在所有 Python 提交中击败了100.00%的用户\n",
    "    内存消耗 :20 MB, 在所有 Python 提交中击败了100.00%的用户\n",
    "\n",
    "# 思路\n",
    "    题目类型：求符合条件最大子序列的长度\n",
    "    需要符合的条件：子序列最大最小值相差不超过limit。\n",
    "\n",
    "所以遍历数组，计算当前每个值向左找的符合条件的子序列的长度，然后max出最大的。\n",
    "\n",
    "    具体的查找过程中，设初始子序列为只有一个元素的nums[0];\n",
    "    遍历并记录子序列中极值（最大最小数）的值和坐标，\n",
    "    如果当前值不在极值范围内，跟新极值，并判断新序列是否符合条件，\n",
    "    ①如果符合，继续遍历下一个数\n",
    "    ②如果不符合，新序列应去掉左边的极值及其以左的元素；然后更新新子序列的极值。\n",
    "\n",
    "\n",
    "# 代码"
   ]
  },
  {
   "cell_type": "code",
   "execution_count": 104,
   "metadata": {},
   "outputs": [],
   "source": [
    "class Solution(object):\n",
    "    def longestSubarray(self, nums, limit):\n",
    "        \"\"\"\n",
    "        :type nums: List[int]\n",
    "        :type limit: int\n",
    "        :rtype: int\n",
    "        \"\"\"\n",
    "        res = 0\n",
    "        n = len(nums)\n",
    "        mi, ma = nums[0], nums[0]\n",
    "        midx, madx = 0, 0\n",
    "        start = 0\n",
    "        for i in range(1, n):\n",
    "            if nums[i] > ma:\n",
    "                ma = nums[i]\n",
    "                madx = i\n",
    "            if nums[i] < mi:\n",
    "                mi = nums[i]\n",
    "                midx = i\n",
    "            while ma - mi > limit:\n",
    "                res = max(res, i-start)\n",
    "                start = min(midx, madx)+1\n",
    "                mi, ma = min(nums[start:i+1]), max(nums[start:i+1])\n",
    "                midx = nums[start:i+1].index(mi)+start\n",
    "                madx = nums[start:i+1].index(ma)+start\n",
    "        return max(res, n-start)"
   ]
  },
  {
   "cell_type": "code",
   "execution_count": 105,
   "metadata": {},
   "outputs": [
    {
     "data": {
      "text/plain": [
       "25"
      ]
     },
     "execution_count": 105,
     "metadata": {},
     "output_type": "execute_result"
    }
   ],
   "source": [
    "nums = [24,12,71,33,5,87,10,11,3,58,2,97,97,36,32,35,15,80,24,45,38,9,22,21,33,68,22,85,35,83,92,38,59,90,42,64,61,15,4,40,50,44,54,25,34,14,33,94,66,27,78,56,3,29,3,51,19,5,93,21,58,91,65,87,55,70,29,81,89,67,58,29,68,84,4,51,87,74,42,85,81,55,8,95,39]\n",
    "limit = 87\n",
    "# nums = [8,2,4,7]\n",
    "# limit = 4\n",
    "Solution().longestSubarray(nums, limit)"
   ]
  },
  {
   "cell_type": "code",
   "execution_count": null,
   "metadata": {},
   "outputs": [],
   "source": []
  },
  {
   "cell_type": "code",
   "execution_count": null,
   "metadata": {},
   "outputs": [],
   "source": []
  }
 ],
 "metadata": {
  "kernelspec": {
   "display_name": "Python 3",
   "language": "python",
   "name": "python3"
  },
  "language_info": {
   "codemirror_mode": {
    "name": "ipython",
    "version": 3
   },
   "file_extension": ".py",
   "mimetype": "text/x-python",
   "name": "python",
   "nbconvert_exporter": "python",
   "pygments_lexer": "ipython3",
   "version": "3.6.5"
  }
 },
 "nbformat": 4,
 "nbformat_minor": 2
}
