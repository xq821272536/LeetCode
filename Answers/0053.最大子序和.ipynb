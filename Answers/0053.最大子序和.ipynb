{
 "cells": [
  {
   "cell_type": "markdown",
   "metadata": {},
   "source": [
    "    执行用时 :76 ms, 在所有 Python 提交中击败了13.53%的用户\n",
    "    内存消耗 :13 MB, 在所有 Python 提交中击败了5.00%的用户\n",
    "# 思路\n",
    "分治算法。最大子序和只存在与列表的左边、右边、或贯穿中间。\n",
    "* 左边：递归\n",
    "* 右边：递归\n",
    "* 中间：计算从中间到左边和从中间到右边的最大自序和，二者相加后减去重复加上去的中间值。"
   ]
  },
  {
   "cell_type": "code",
   "execution_count": 27,
   "metadata": {},
   "outputs": [],
   "source": [
    "class Solution(object):\n",
    "    def maxSubArray(self, nums):\n",
    "        \"\"\"\n",
    "        :type nums: List[int]\n",
    "        :rtype: int\n",
    "        \"\"\"\n",
    "        n = len(nums)\n",
    "        if n == 1:\n",
    "            return nums[0]\n",
    "        if n == 0:\n",
    "            return -9999\n",
    "        mid = (n - 1) // 2\n",
    "        # left\n",
    "        leftmax = self.maxSubArray(nums[:mid])\n",
    "        # right\n",
    "        rightmax = self.maxSubArray(nums[mid+1:])\n",
    "        # mid\n",
    "        midleftmax = -9999\n",
    "        S = 0\n",
    "        for i in range(mid, -1, -1):\n",
    "            S += nums[i]\n",
    "            midleftmax = max(midleftmax, S)\n",
    "        midrightmax = -9999\n",
    "        S = 0\n",
    "        for i in range(mid, n):\n",
    "            S += nums[i]\n",
    "            midrightmax = max(midrightmax, S)\n",
    "        midmax = midleftmax + midrightmax - nums[mid]\n",
    "        return max(leftmax, rightmax, midmax)"
   ]
  },
  {
   "cell_type": "code",
   "execution_count": 28,
   "metadata": {},
   "outputs": [
    {
     "data": {
      "text/plain": [
       "-2"
      ]
     },
     "execution_count": 28,
     "metadata": {},
     "output_type": "execute_result"
    }
   ],
   "source": [
    "nums = [-4,-2]\n",
    "Solution().maxSubArray(nums)"
   ]
  },
  {
   "cell_type": "code",
   "execution_count": null,
   "metadata": {},
   "outputs": [],
   "source": []
  }
 ],
 "metadata": {
  "kernelspec": {
   "display_name": "Python 3",
   "language": "python",
   "name": "python3"
  },
  "language_info": {
   "codemirror_mode": {
    "name": "ipython",
    "version": 3
   },
   "file_extension": ".py",
   "mimetype": "text/x-python",
   "name": "python",
   "nbconvert_exporter": "python",
   "pygments_lexer": "ipython3",
   "version": "3.6.5"
  }
 },
 "nbformat": 4,
 "nbformat_minor": 2
}
