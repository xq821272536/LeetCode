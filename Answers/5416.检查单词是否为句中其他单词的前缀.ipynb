{
 "cells": [
  {
   "cell_type": "code",
   "execution_count": null,
   "metadata": {},
   "outputs": [],
   "source": [
    "    执行用时 :28 ms, 在所有 Python 提交中击败了100.00%的用户\n",
    "    内存消耗 :12.6 MB, 在所有 Python 提交中击败了100.00%的用户"
   ]
  },
  {
   "cell_type": "code",
   "execution_count": 21,
   "metadata": {},
   "outputs": [],
   "source": [
    "class Solution(object):\n",
    "    def isPrefixOfWord(self, sentence, searchWord):\n",
    "        \"\"\"\n",
    "        :type sentence: str\n",
    "        :type searchWord: str\n",
    "        :rtype: int\n",
    "        \"\"\"\n",
    "        s = sentence.split(' ')\n",
    "        for i in range(len(s)):\n",
    "            if len(s[i]) >= len(searchWord) and s[i][:len(searchWord)] == searchWord:\n",
    "                return i+1\n",
    "        return -1"
   ]
  },
  {
   "cell_type": "code",
   "execution_count": 22,
   "metadata": {},
   "outputs": [
    {
     "data": {
      "text/plain": [
       "1"
      ]
     },
     "execution_count": 22,
     "metadata": {},
     "output_type": "execute_result"
    }
   ],
   "source": [
    "sentence = \"they  they\"\n",
    "searchWord = \"they\"\n",
    "Solution().isPrefixOfWord(sentence, searchWord)"
   ]
  },
  {
   "cell_type": "code",
   "execution_count": null,
   "metadata": {},
   "outputs": [],
   "source": []
  }
 ],
 "metadata": {
  "kernelspec": {
   "display_name": "Python 3",
   "language": "python",
   "name": "python3"
  },
  "language_info": {
   "codemirror_mode": {
    "name": "ipython",
    "version": 3
   },
   "file_extension": ".py",
   "mimetype": "text/x-python",
   "name": "python",
   "nbconvert_exporter": "python",
   "pygments_lexer": "ipython3",
   "version": "3.6.5"
  }
 },
 "nbformat": 4,
 "nbformat_minor": 2
}
