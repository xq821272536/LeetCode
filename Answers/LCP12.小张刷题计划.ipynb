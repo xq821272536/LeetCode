{
 "cells": [
  {
   "cell_type": "markdown",
   "metadata": {},
   "source": [
    "# 思路\n",
    "递归：\n",
    "    * 小张做题最大耗时T = max(第一天做题时间，其余m-1天做题最大耗时)\n",
    "    * 其余m-1天做题最大耗时 = max(第二天做题时间，其余m-2天做题最大耗时)\n",
    "    ……\n",
    "    其中，\n",
    "        由于小杨只能帮小张做m道题，\n",
    "        所以小张当天可以只做一道题（自己不做给小杨做，当天用时为0），或做完所有需要自己做的题并让小杨帮忙做一道题（len(time)-m+1）；\n",
    "        所以小张当天有len(time)-m+1种做题方案。\n",
    "        遍历这些方案，记录每种方案的最大用时，然后所有方案中的最小值。\n",
    "终止条件一：\n",
    "    * 如果只剩一天，则用时最多的题给小杨做，剩下的自己做；\n",
    "    * 返回小张自己做题所花时间 = 做所有题的时间和 - 耗时最大的题目时间\n",
    "终止条件二：\n",
    "    * 如果剩余天数 >= 剩余题目数，则以后所有的题都可以给小杨做，\n",
    "    * 小张自己不用花时间，返回0\n",
    "\n",
    "\n",
    "# 代码"
   ]
  },
  {
   "cell_type": "code",
   "execution_count": null,
   "metadata": {},
   "outputs": [],
   "source": [
    "class Solution(object):\n",
    "    def __init__(self):\n",
    "        self.mapping = {}\n",
    "    def minTime(self, time, m):\n",
    "        \"\"\"\n",
    "        :type nums: List[int]\n",
    "        :rtype: int\n",
    "        \"\"\"\n",
    "        if tuple(time) in self.mapping and m in self.mapping[tuple(time)]:\n",
    "            return self.mapping[tuple(time)][m]\n",
    "        if m == 1:\n",
    "            return sum(time) - max(time)\n",
    "        if m >= len(time) or m == 0:\n",
    "            return 0\n",
    "        Max = len(time)-m+1\n",
    "        \n",
    "        rest = []\n",
    "        for i in range(0, Max):\n",
    "            todayT = sum(time[:i+1])-max(time[:i+1])\n",
    "            otherT = self.minTime(time[i+1:], m-1)\n",
    "            rest.append(max(todayT, otherT))\n",
    "        res = min(rest)\n",
    "        if not tuple(time) in self.mapping:\n",
    "            self.mapping[tuple(time)] = {}\n",
    "        if not res in self.mapping[tuple(time)]:\n",
    "            self.mapping[tuple(time)][m] = res\n",
    "        return res"
   ]
  },
  {
   "cell_type": "code",
   "execution_count": null,
   "metadata": {},
   "outputs": [],
   "source": [
    "matrix = [73,26,15,33,65,95,5,7,73,4,42,39,73,25,7,59,1,29,95,71,2,22,63,54,65,5,79,40,99,53,51,37,94,5,34,35,97,42,49,19,13,14,39,79,9,52,67,70,56,65,43,49,16,86,81,3,43,43,75,51,75,85,87,66,69,47,95,69,91,28,81,51,8,16,27,51,91,65,18,16,29,74,65,11,93,95,38,49,17,100,83,12,6,9,14,62,37,53,76,1]\n",
    "m = 57\n",
    "# matrix = [1,2,3,3]\n",
    "# m = 2\n",
    "print(Solution().minTime(matrix, m))"
   ]
  },
  {
   "cell_type": "code",
   "execution_count": null,
   "metadata": {},
   "outputs": [],
   "source": []
  },
  {
   "cell_type": "code",
   "execution_count": null,
   "metadata": {},
   "outputs": [],
   "source": []
  }
 ],
 "metadata": {
  "kernelspec": {
   "display_name": "Python 3",
   "language": "python",
   "name": "python3"
  },
  "language_info": {
   "codemirror_mode": {
    "name": "ipython",
    "version": 3
   },
   "file_extension": ".py",
   "mimetype": "text/x-python",
   "name": "python",
   "nbconvert_exporter": "python",
   "pygments_lexer": "ipython3",
   "version": "3.6.5"
  }
 },
 "nbformat": 4,
 "nbformat_minor": 2
}
