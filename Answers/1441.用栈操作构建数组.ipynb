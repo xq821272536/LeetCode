{
 "cells": [
  {
   "cell_type": "markdown",
   "metadata": {},
   "source": [
    "    执行用时 :24 ms, 在所有 Python 提交中击败了100.00%的用户\n",
    "    内存消耗 :12.8 MB, 在所有 Python 提交中击败了100.00%的用户"
   ]
  },
  {
   "cell_type": "code",
   "execution_count": null,
   "metadata": {},
   "outputs": [],
   "source": [
    "class Solution(object):\n",
    "    def buildArray(self, target, n):\n",
    "        \"\"\"\n",
    "        :type target: List[int]\n",
    "        :type n: int\n",
    "        :rtype: List[str]\n",
    "        \"\"\"\n",
    "        i = 1\n",
    "        t = 0\n",
    "        res = []\n",
    "        while i<=n and t<len(target):\n",
    "            res.append(\"Push\")\n",
    "            if i<target[t]:\n",
    "                res.append(\"Pop\")\n",
    "                i +=1\n",
    "                continue\n",
    "            i+=1\n",
    "            t+=1\n",
    "        return res"
   ]
  }
 ],
 "metadata": {
  "kernelspec": {
   "display_name": "Python 3",
   "language": "python",
   "name": "python3"
  },
  "language_info": {
   "codemirror_mode": {
    "name": "ipython",
    "version": 3
   },
   "file_extension": ".py",
   "mimetype": "text/x-python",
   "name": "python",
   "nbconvert_exporter": "python",
   "pygments_lexer": "ipython3",
   "version": "3.6.5"
  }
 },
 "nbformat": 4,
 "nbformat_minor": 2
}
