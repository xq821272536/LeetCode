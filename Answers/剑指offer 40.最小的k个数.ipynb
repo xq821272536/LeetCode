{
 "cells": [
  {
   "cell_type": "markdown",
   "metadata": {},
   "source": [
    "# 堆\n",
    "虽然在这道题中，堆排序不是最优的解法，但基础要打好，堆思想要练熟。\n",
    "    \n",
    "    执行用时：84 ms, 在所有 Python 提交中击败了49.79%的用户\n",
    "    内存消耗：14.2 MB, 在所有 Python 提交中击败了25.00%的用户"
   ]
  },
  {
   "cell_type": "code",
   "execution_count": 108,
   "metadata": {},
   "outputs": [],
   "source": [
    "# python自带heapq方法\n",
    "import heapq\n",
    "class Solution(object):\n",
    "    def getLeastNumbers(self, arr, k):\n",
    "        \"\"\"\n",
    "        :type arr: List[int]\n",
    "        :type k: int\n",
    "        :rtype: List[int]\n",
    "        \"\"\"\n",
    "        if k <= 0:\n",
    "            return []\n",
    "        if k >= len(arr):\n",
    "            return arr\n",
    "        hp = [-x for x in arr[:k]]\n",
    "        heapq.heapify(hp)\n",
    "        for i in range(k, len(arr)):\n",
    "            if arr[i] < -hp[0]:\n",
    "                heapq.heappop(hp)\n",
    "                heapq.heappush(hp, -arr[i])\n",
    "        res = [-x for x in hp]\n",
    "        return res"
   ]
  },
  {
   "cell_type": "markdown",
   "metadata": {},
   "source": [
    "    执行用时：92 ms, 在所有 Python 提交中击败了38.62%的用户\n",
    "    内存消耗：14 MB, 在所有 Python 提交中击败了50.58%的用户"
   ]
  },
  {
   "cell_type": "code",
   "execution_count": 104,
   "metadata": {},
   "outputs": [],
   "source": [
    "# 自己写堆\n",
    "# 从顶端插入堆：把顶端元素向下对比交换，直到符合堆顺序\n",
    "# 构建堆：从最后一个有子节点的元素开始往前，每个都做一遍向下对比交换操作。\n",
    "class Solution(object):\n",
    "    def getLeastNumbers(self, arr, k):\n",
    "        if k <= 0:\n",
    "            return []\n",
    "        if k >= len(arr):\n",
    "            return arr\n",
    "        hp = self.build_heap(arr[:k])\n",
    "        print(hp)\n",
    "        for i in range(k, len(arr)):\n",
    "            if arr[i] < hp[0]:\n",
    "                hp[0] = arr[i]\n",
    "                self.sink(hp, 0)\n",
    "        return hp\n",
    "    \n",
    "    def sink(self, arr, k):\n",
    "        n = len(arr)\n",
    "        l = 2 * k + 1\n",
    "        r = 2 * k + 2\n",
    "        if l >= n:\n",
    "            return\n",
    "        max_i = l\n",
    "        if r < n and arr[l] < arr[r]:\n",
    "            max_i = r\n",
    "        if arr[max_i] > arr[k]:\n",
    "            arr[max_i], arr[k] = arr[k], arr[max_i]\n",
    "            self.sink(arr, max_i)\n",
    "    \n",
    "    def build_heap(self, lis):\n",
    "        for i in range(len(lis) // 2, -1, -1):\n",
    "            print(lis)\n",
    "            self.sink(lis, i)\n",
    "        return lis"
   ]
  },
  {
   "cell_type": "code",
   "execution_count": 109,
   "metadata": {},
   "outputs": [
    {
     "data": {
      "text/plain": [
       "[3, 2, 2, 1, 0, 2, 1, 0]"
      ]
     },
     "execution_count": 109,
     "metadata": {},
     "output_type": "execute_result"
    }
   ],
   "source": [
    "# arr = [0,1,1,1,4,5,3,7,7,8,10,2,7,8,0,5,2,16,12,1,19,15,5,18,2,2,22,15,8,22,17,6,22,6,22,26,32,8,10,11,2,26,9,12,9,7,28,33,20,7,2,17,44,3,52,27,2,23,19,56,56,58,36,31,1,19,19,6,65,49,27,63,29,1,69,47,56,61,40,43,10,71,60,66,42,44,10,12,83,69,73,2,65,93,92,47,35,39,13,75]\n",
    "# k = 75\n",
    "arr = [0,0,1,2,4,2,2,3,1,4]\n",
    "k = 8\n",
    "Solution().getLeastNumbers(arr, k)"
   ]
  },
  {
   "cell_type": "code",
   "execution_count": null,
   "metadata": {},
   "outputs": [],
   "source": []
  },
  {
   "cell_type": "code",
   "execution_count": null,
   "metadata": {},
   "outputs": [],
   "source": []
  }
 ],
 "metadata": {
  "kernelspec": {
   "display_name": "Python 3",
   "language": "python",
   "name": "python3"
  },
  "language_info": {
   "codemirror_mode": {
    "name": "ipython",
    "version": 3
   },
   "file_extension": ".py",
   "mimetype": "text/x-python",
   "name": "python",
   "nbconvert_exporter": "python",
   "pygments_lexer": "ipython3",
   "version": "3.6.5"
  }
 },
 "nbformat": 4,
 "nbformat_minor": 2
}
