{
 "cells": [
  {
   "cell_type": "markdown",
   "metadata": {},
   "source": [
    "    超时"
   ]
  },
  {
   "cell_type": "code",
   "execution_count": null,
   "metadata": {},
   "outputs": [],
   "source": [
    "class Solution(object):\n",
    "    def numberOfArrays(self, s, k):\n",
    "        \"\"\"\n",
    "        :type s: str\n",
    "        :type k: int\n",
    "        :rtype: int\n",
    "        \"\"\"\n",
    "        n = len(s)\n",
    "        dp = [0] * (n + 1)\n",
    "        dp[0] = 1\n",
    "        mod = 10 ** 9 + 7\n",
    "        \n",
    "        for i in range(1, n + 1):\n",
    "            for j in range(i - 1, -1, -1):\n",
    "                if s[j] == \"0\": continue\n",
    "                if int(s[j:i]) <= k:\n",
    "                    dp[i] += dp[j]\n",
    "                else:\n",
    "                    if s[i - 1] == \"0\" and dp[i] == 0: return 0\n",
    "                    break\n",
    "\n",
    "            dp[i] %= mod\n",
    "        return dp[-1] % mod"
   ]
  }
 ],
 "metadata": {
  "kernelspec": {
   "display_name": "Python 3",
   "language": "python",
   "name": "python3"
  },
  "language_info": {
   "codemirror_mode": {
    "name": "ipython",
    "version": 3
   },
   "file_extension": ".py",
   "mimetype": "text/x-python",
   "name": "python",
   "nbconvert_exporter": "python",
   "pygments_lexer": "ipython3",
   "version": "3.6.5"
  }
 },
 "nbformat": 4,
 "nbformat_minor": 2
}
