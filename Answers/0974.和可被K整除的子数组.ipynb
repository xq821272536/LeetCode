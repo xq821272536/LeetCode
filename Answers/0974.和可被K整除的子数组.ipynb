{
 "cells": [
  {
   "cell_type": "markdown",
   "metadata": {},
   "source": [
    "    执行用时 :284 ms, 在所有 Python 提交中击败了100.00%的用户\n",
    "    内存消耗 :16.1 MB, 在所有 Python 提交中击败了100.00%的用户"
   ]
  },
  {
   "cell_type": "code",
   "execution_count": 1,
   "metadata": {},
   "outputs": [],
   "source": [
    "class Solution(object):\n",
    "    def subarraysDivByK(self, A, K):\n",
    "        \"\"\"\n",
    "        :type A: List[int]\n",
    "        :type K: int\n",
    "        :rtype: int\n",
    "        \"\"\"\n",
    "        record = {0: 1}\n",
    "        total, ans = 0, 0\n",
    "        for elem in A:\n",
    "            total += elem\n",
    "            modulus = total % K\n",
    "            same = record.get(modulus, 0)\n",
    "            ans += same\n",
    "            record[modulus] = same + 1\n",
    "        return ans"
   ]
  },
  {
   "cell_type": "code",
   "execution_count": 3,
   "metadata": {},
   "outputs": [
    {
     "data": {
      "text/plain": [
       "7"
      ]
     },
     "execution_count": 3,
     "metadata": {},
     "output_type": "execute_result"
    }
   ],
   "source": [
    "A = [4,5,0,-2,-3,1]\n",
    "K = 5\n",
    "Solution().subarraysDivByK(A, K)"
   ]
  },
  {
   "cell_type": "code",
   "execution_count": null,
   "metadata": {},
   "outputs": [],
   "source": []
  }
 ],
 "metadata": {
  "kernelspec": {
   "display_name": "Python 3",
   "language": "python",
   "name": "python3"
  },
  "language_info": {
   "codemirror_mode": {
    "name": "ipython",
    "version": 3
   },
   "file_extension": ".py",
   "mimetype": "text/x-python",
   "name": "python",
   "nbconvert_exporter": "python",
   "pygments_lexer": "ipython3",
   "version": "3.6.5"
  }
 },
 "nbformat": 4,
 "nbformat_minor": 2
}
