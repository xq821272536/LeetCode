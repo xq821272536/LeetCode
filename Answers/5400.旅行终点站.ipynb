{
 "cells": [
  {
   "cell_type": "markdown",
   "metadata": {},
   "source": [
    "    执行用时 :24 ms, 在所有 Python 提交中击败了100.00%的用户\n",
    "    内存消耗 :12.6 MB, 在所有 Python 提交中击败了100.00%的用户\n",
    "# 思路\n",
    "    把所有路线信息都记录为字典，其中key=出发地点，value=到达地点。\n",
    "    从第一条路线开始，将其到达点作为key查找，字典中找不到说明已到终点站，找到则更新到达点，继续下一次查找。"
   ]
  },
  {
   "cell_type": "code",
   "execution_count": 1,
   "metadata": {},
   "outputs": [],
   "source": [
    "class Solution(object):\n",
    "    def destCity(self, paths):\n",
    "        \"\"\"\n",
    "        :type paths: List[List[str]]\n",
    "        :rtype: str\n",
    "        \"\"\"\n",
    "        dic = {}\n",
    "        for i in paths:\n",
    "            dic[i[0]] = i[1]\n",
    "        last = paths[0][1]\n",
    "        while last in dic:\n",
    "            last = dic[last]\n",
    "        return last"
   ]
  },
  {
   "cell_type": "code",
   "execution_count": 4,
   "metadata": {},
   "outputs": [
    {
     "data": {
      "text/plain": [
       "'Sao Paulo'"
      ]
     },
     "execution_count": 4,
     "metadata": {},
     "output_type": "execute_result"
    }
   ],
   "source": [
    "paths = [[\"London\",\"New York\"],[\"New York\",\"Lima\"],[\"Lima\",\"Sao Paulo\"]]\n",
    "Solution().destCity(paths)"
   ]
  },
  {
   "cell_type": "code",
   "execution_count": null,
   "metadata": {},
   "outputs": [],
   "source": []
  }
 ],
 "metadata": {
  "kernelspec": {
   "display_name": "Python 3",
   "language": "python",
   "name": "python3"
  },
  "language_info": {
   "codemirror_mode": {
    "name": "ipython",
    "version": 3
   },
   "file_extension": ".py",
   "mimetype": "text/x-python",
   "name": "python",
   "nbconvert_exporter": "python",
   "pygments_lexer": "ipython3",
   "version": "3.6.5"
  }
 },
 "nbformat": 4,
 "nbformat_minor": 2
}
