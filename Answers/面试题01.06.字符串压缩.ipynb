{
 "cells": [
  {
   "cell_type": "markdown",
   "metadata": {},
   "source": [
    "    执行用时 :52 ms, 在所有 Python3 提交中击败了87.29%的用户\n",
    "    内存消耗 :13.6 MB, 在所有 Python3 提交中击败了100.00%的用户"
   ]
  },
  {
   "cell_type": "code",
   "execution_count": 1,
   "metadata": {},
   "outputs": [],
   "source": [
    "class Solution:\n",
    "    def compressString(self, S: str) -> str:\n",
    "        l = len(S)\n",
    "        if l < 2:\n",
    "            return S\n",
    "        result = ''\n",
    "        i = 1\n",
    "        t = 1\n",
    "        while i < l:\n",
    "            if S[i] == S[i-1]:\n",
    "                t += 1\n",
    "            else:\n",
    "                result += S[i-1]\n",
    "                result += str(t)\n",
    "                t = 1\n",
    "            i += 1\n",
    "        result += S[i-1]\n",
    "        result += str(t)\n",
    "        if len(result) < l:\n",
    "            return result\n",
    "        else:\n",
    "            return S"
   ]
  },
  {
   "cell_type": "code",
   "execution_count": 2,
   "metadata": {},
   "outputs": [
    {
     "data": {
      "text/plain": [
       "'a2b1c5a3'"
      ]
     },
     "execution_count": 2,
     "metadata": {},
     "output_type": "execute_result"
    }
   ],
   "source": [
    "S = \"aabcccccaaa\"\n",
    "Solution().compressString(S)"
   ]
  },
  {
   "cell_type": "code",
   "execution_count": null,
   "metadata": {},
   "outputs": [],
   "source": []
  }
 ],
 "metadata": {
  "kernelspec": {
   "display_name": "Python 3",
   "language": "python",
   "name": "python3"
  },
  "language_info": {
   "codemirror_mode": {
    "name": "ipython",
    "version": 3
   },
   "file_extension": ".py",
   "mimetype": "text/x-python",
   "name": "python",
   "nbconvert_exporter": "python",
   "pygments_lexer": "ipython3",
   "version": "3.6.5"
  }
 },
 "nbformat": 4,
 "nbformat_minor": 2
}
