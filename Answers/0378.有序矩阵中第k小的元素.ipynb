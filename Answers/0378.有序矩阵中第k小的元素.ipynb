{
 "cells": [
  {
   "cell_type": "markdown",
   "metadata": {},
   "source": [
    "    执行用时：252 ms, 在所有 Python 提交中击败了20.99%的用户\n",
    "    内存消耗：18.1 MB, 在所有 Python 提交中击败了59.68%的用户"
   ]
  },
  {
   "cell_type": "code",
   "execution_count": null,
   "metadata": {},
   "outputs": [],
   "source": [
    "class Solution(object):\n",
    "    def kthSmallest(self, matrix, k):\n",
    "        \"\"\"\n",
    "        :type matrix: List[List[int]]\n",
    "        :type k: int\n",
    "        :rtype: int\n",
    "        \"\"\"\n",
    "        if len(matrix) == 0 or k == 0:\n",
    "            return 0\n",
    "        hp = []\n",
    "        for line in matrix:\n",
    "            if len(hp) >= k and line[0] >= hp[0]:\n",
    "                break\n",
    "            for x in line:\n",
    "                if len(hp) < k:\n",
    "                    hp.append(x)\n",
    "                    if len(hp) == k:\n",
    "                        self.build_hp(hp)\n",
    "                elif x < hp[0]:\n",
    "                    hp[0] = x\n",
    "                    self.sink(hp, 0)\n",
    "                else:\n",
    "                    break\n",
    "        return hp[0]\n",
    "    \n",
    "    def build_hp(self, lis):\n",
    "        for i in range((len(lis) - 1) // 2, -1, -1):\n",
    "            self.sink(lis, i)\n",
    "    \n",
    "    def sink(self, lis, i):\n",
    "        l = 2 * i + 1\n",
    "        r = 2 * i + 2\n",
    "        n = len(lis)\n",
    "        if l >= n:\n",
    "            return\n",
    "        max_i = l\n",
    "        if r < n and lis[r] > lis[l]:\n",
    "            max_i = r\n",
    "        if lis[i] < lis[max_i]:\n",
    "            lis[i], lis[max_i] = lis[max_i], lis[i]\n",
    "            self.sink(lis, max_i)"
   ]
  }
 ],
 "metadata": {
  "kernelspec": {
   "display_name": "Python 3",
   "language": "python",
   "name": "python3"
  },
  "language_info": {
   "codemirror_mode": {
    "name": "ipython",
    "version": 3
   },
   "file_extension": ".py",
   "mimetype": "text/x-python",
   "name": "python",
   "nbconvert_exporter": "python",
   "pygments_lexer": "ipython3",
   "version": "3.6.5"
  }
 },
 "nbformat": 4,
 "nbformat_minor": 2
}
