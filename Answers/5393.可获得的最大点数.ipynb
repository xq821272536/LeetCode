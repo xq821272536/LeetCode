{
 "cells": [
  {
   "attachments": {},
   "cell_type": "markdown",
   "metadata": {},
   "source": [
    "    执行用时 :84 ms, 在所有 Python 提交中击败了100%的用户\n",
    "    内存消耗 :21.7 MB, 在所有 Python 提交中击败了100%的用户\n",
    "# 思路\n",
    "无论怎么取，最终都是在数组左边和右边共k个数，也就是剩下中间的n-k个数。\n",
    "所以可以用窗口滑动法，计算所有可能取法结果，然后返回最大值。\n",
    "\n",
    "# 代码"
   ]
  },
  {
   "cell_type": "code",
   "execution_count": 1,
   "metadata": {},
   "outputs": [],
   "source": [
    "class Solution(object):\n",
    "    def maxScore(self, cardPoints, k):\n",
    "        \"\"\"\n",
    "        :type cardPoints: List[int]\n",
    "        :type k: int\n",
    "        :rtype: int\n",
    "        \"\"\"\n",
    "        n = len(cardPoints)\n",
    "        \n",
    "        # 如果可取得数大于等于列表元素个数， 就全取\n",
    "        if k >= n:\n",
    "            return sum(cardPoints)\n",
    "        \n",
    "        # 计算初始情况：从右边取k个元素\n",
    "        sub = sum(cardPoints[n-k:])\n",
    "        res = [sub]\n",
    "        \n",
    "        # 滑动窗口：每滑动一次，左边多取一个元素，右边少取一个元素\n",
    "        for i in range(k):\n",
    "            sub += cardPoints[i]\n",
    "            sub -= cardPoints[n-k+i]\n",
    "            res.append(sub)\n",
    "        return max(res)"
   ]
  },
  {
   "cell_type": "code",
   "execution_count": 2,
   "metadata": {},
   "outputs": [
    {
     "data": {
      "text/plain": [
       "202"
      ]
     },
     "execution_count": 2,
     "metadata": {},
     "output_type": "execute_result"
    }
   ],
   "source": [
    "cardPoints = [1,79,80,1,1,1,200,1]\n",
    "k = 3\n",
    "Solution().maxScore(cardPoints, k)"
   ]
  }
 ],
 "metadata": {
  "kernelspec": {
   "display_name": "Python 3",
   "language": "python",
   "name": "python3"
  },
  "language_info": {
   "codemirror_mode": {
    "name": "ipython",
    "version": 3
   },
   "file_extension": ".py",
   "mimetype": "text/x-python",
   "name": "python",
   "nbconvert_exporter": "python",
   "pygments_lexer": "ipython3",
   "version": "3.6.5"
  }
 },
 "nbformat": 4,
 "nbformat_minor": 2
}
