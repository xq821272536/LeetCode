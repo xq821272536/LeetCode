{
 "cells": [
  {
   "cell_type": "markdown",
   "metadata": {},
   "source": [
    "# "
   ]
  },
  {
   "cell_type": "code",
   "execution_count": 29,
   "metadata": {},
   "outputs": [],
   "source": [
    "class Solution(object):\n",
    "    def splitArray(self, nums):\n",
    "        \"\"\"\n",
    "        :type nums: List[int]\n",
    "        :rtype: int\n",
    "        \"\"\"\n",
    "        mapping = {}\n",
    "        def sub_alg(a, b):\n",
    "            if a == b:\n",
    "                mapping[(a, b)] = a\n",
    "                return a\n",
    "            a, b = min(a, b), max(a, b)\n",
    "            if (a, b) in mapping:\n",
    "                return mapping[(a, b)]\n",
    "            mapping[(a, b)] = sub_alg(b - a, a)\n",
    "            return sub_alg(b - a, a)\n",
    "        \n",
    "        if sub_alg(nums[0], nums[-1]) > 1:\n",
    "            return 1\n",
    "        score = []\n",
    "        for i in range(len(nums)-1, -1, -1):\n",
    "            if sub_alg(nums[0], nums[i]) > 1:\n",
    "                t = self.splitArray(nums[i+1:])\n",
    "                score.append(t)\n",
    "        return min(score)+1"
   ]
  },
  {
   "cell_type": "code",
   "execution_count": 24,
   "metadata": {},
   "outputs": [
    {
     "data": {
      "text/plain": [
       "2"
      ]
     },
     "execution_count": 24,
     "metadata": {},
     "output_type": "execute_result"
    }
   ],
   "source": [
    "matrix = [2,3,3,2,3,3]\n",
    "Solution().splitArray(matrix)"
   ]
  },
  {
   "cell_type": "code",
   "execution_count": 30,
   "metadata": {},
   "outputs": [],
   "source": []
  },
  {
   "cell_type": "code",
   "execution_count": 31,
   "metadata": {},
   "outputs": [
    {
     "name": "stdout",
     "output_type": "stream",
     "text": [
      "15\n"
     ]
    }
   ],
   "source": []
  },
  {
   "cell_type": "code",
   "execution_count": null,
   "metadata": {},
   "outputs": [],
   "source": []
  }
 ],
 "metadata": {
  "kernelspec": {
   "display_name": "Python 3",
   "language": "python",
   "name": "python3"
  },
  "language_info": {
   "codemirror_mode": {
    "name": "ipython",
    "version": 3
   },
   "file_extension": ".py",
   "mimetype": "text/x-python",
   "name": "python",
   "nbconvert_exporter": "python",
   "pygments_lexer": "ipython3",
   "version": "3.6.5"
  }
 },
 "nbformat": 4,
 "nbformat_minor": 2
}
