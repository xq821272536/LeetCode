{
 "cells": [
  {
   "attachments": {},
   "cell_type": "markdown",
   "metadata": {},
   "source": [
    "    执行用时 :28 ms, 在所有 Python 提交中击败了97.14%的用户\n",
    "    内存消耗 :13.5 MB, 在所有 Python 提交中击败了100%的用户\n",
    "# 思路\n",
    "* 遍历列表，用字典记录遍历结果。\n",
    "* 当数字第一次出现时加入字典，当数字已在字典中时从字典中删除这个数字。\n",
    "* nums里出现了两次的数字经上述操作后，不会出现在字典中；仅出现过一次的数字会留在字典中。\n",
    "# 代码"
   ]
  },
  {
   "cell_type": "code",
   "execution_count": 14,
   "metadata": {},
   "outputs": [],
   "source": [
    "class Solution(object):\n",
    "    def singleNumbers(self, nums):\n",
    "        \"\"\"\n",
    "        :type nums: List[int]\n",
    "        :rtype: List[int]\n",
    "        \"\"\"\n",
    "        res = {}\n",
    "        for i in nums:\n",
    "            if i in res:\n",
    "                del res[i]\n",
    "            else:\n",
    "                res[i] = 1\n",
    "        return list(res)"
   ]
  },
  {
   "cell_type": "code",
   "execution_count": 17,
   "metadata": {},
   "outputs": [
    {
     "data": {
      "text/plain": [
       "[1, 2, 3]"
      ]
     },
     "execution_count": 17,
     "metadata": {},
     "output_type": "execute_result"
    }
   ],
   "source": [
    "nums = [1,2,3]\n",
    "Solution().singleNumbers(nums)"
   ]
  },
  {
   "cell_type": "code",
   "execution_count": null,
   "metadata": {},
   "outputs": [],
   "source": []
  }
 ],
 "metadata": {
  "kernelspec": {
   "display_name": "Python 3",
   "language": "python",
   "name": "python3"
  },
  "language_info": {
   "codemirror_mode": {
    "name": "ipython",
    "version": 3
   },
   "file_extension": ".py",
   "mimetype": "text/x-python",
   "name": "python",
   "nbconvert_exporter": "python",
   "pygments_lexer": "ipython3",
   "version": "3.6.5"
  }
 },
 "nbformat": 4,
 "nbformat_minor": 2
}
