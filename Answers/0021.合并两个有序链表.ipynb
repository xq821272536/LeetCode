{
 "cells": [
  {
   "cell_type": "markdown",
   "metadata": {},
   "source": [
    "    执行用时 :36 ms, 在所有 Python 提交中击败了23.07%的用户\n",
    "    内存消耗 :12.9 MB, 在所有 Python 提交中击败了10.00%的用户"
   ]
  },
  {
   "cell_type": "code",
   "execution_count": null,
   "metadata": {},
   "outputs": [],
   "source": [
    "class Solution(object):\n",
    "    def mergeTwoLists(self, l1, l2):\n",
    "        \"\"\"\n",
    "        :type l1: ListNode\n",
    "        :type l2: ListNode\n",
    "        :rtype: ListNode\n",
    "        \"\"\"\n",
    "        if l1==None and l2== None:\n",
    "            return None\n",
    "        if l1==None:\n",
    "            return l2\n",
    "        if l2==None:\n",
    "            return l1\n",
    "        if l1.val < l2.val:\n",
    "            head = l1\n",
    "            l1=l1.next\n",
    "        else:\n",
    "            head = l2\n",
    "            l2=l2.next\n",
    "        t= head\n",
    "        while l1!=None and l2!=None:\n",
    "            if l1.val < l2.val:\n",
    "                t.next=l1\n",
    "                l1=l1.next\n",
    "            else:\n",
    "                t.next=l2\n",
    "                l2=l2.next\n",
    "            t=t.next\n",
    "        t.next=l1 if l1!=None else l2\n",
    "        return head"
   ]
  }
 ],
 "metadata": {
  "kernelspec": {
   "display_name": "Python 3",
   "language": "python",
   "name": "python3"
  },
  "language_info": {
   "codemirror_mode": {
    "name": "ipython",
    "version": 3
   },
   "file_extension": ".py",
   "mimetype": "text/x-python",
   "name": "python",
   "nbconvert_exporter": "python",
   "pygments_lexer": "ipython3",
   "version": "3.6.5"
  }
 },
 "nbformat": 4,
 "nbformat_minor": 2
}
