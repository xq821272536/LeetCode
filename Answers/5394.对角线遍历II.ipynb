{
 "cells": [
  {
   "attachments": {},
   "cell_type": "markdown",
   "metadata": {},
   "source": [
    "    执行用时 :392 ms, 在所有 Python 提交中击败了100%的用户\n",
    "    内存消耗 :46.1 MB, 在所有 Python 提交中击败了100%的用户\n",
    "# 思路\n",
    "第一条对角线上的元素下表为(0, 0)\n",
    "第二条对角线上的元素下表为(1, 0), (0, 1)\n",
    "第三条对角线上的元素下表为(2, 0), (1, 1), (0, 2)\n",
    "……\n",
    "易得每条对角线上元素的下标i+j是一致的，而且对角线上的元素是按照下标i从小到大排列的。\n",
    "所以只要把元素下表按照i+j的值归类排序就好了。\n",
    "\n",
    "# 代码"
   ]
  },
  {
   "cell_type": "code",
   "execution_count": 1,
   "metadata": {},
   "outputs": [],
   "source": [
    "class Solution(object):\n",
    "    def findDiagonalOrder(self, nums):\n",
    "        \"\"\"\n",
    "        :type nums: List[List[int]]\n",
    "        :rtype: List[int]\n",
    "        \"\"\"\n",
    "        map = {}\n",
    "        \n",
    "        # 遍历每个元素，记录下标并归类：{0:[[0,0]], 1:[[0,1], [1,0]], ... }\n",
    "        for i in range(len(nums)):\n",
    "            for j in range(len(nums[i])):\n",
    "                if not (i+j) in map:\n",
    "                    map[i+j] = [[i, j]]\n",
    "                else:\n",
    "                    map[i+j] += [[i, j]]\n",
    "        \n",
    "        # 按key的顺序和value内列表元素的逆序输出结果，记录在res列表中\n",
    "        res = []\n",
    "        for i in map:\n",
    "            map[i].sort()\n",
    "            for j in map[i][::-1]:\n",
    "                res.append(nums[j[0]][j[1]])\n",
    "        return res"
   ]
  },
  {
   "cell_type": "code",
   "execution_count": 2,
   "metadata": {},
   "outputs": [
    {
     "data": {
      "text/plain": [
       "[1, 2, 3, 4, 5, 6]"
      ]
     },
     "execution_count": 2,
     "metadata": {},
     "output_type": "execute_result"
    }
   ],
   "source": [
    "nums = [[1,2,3,4,5,6]]\n",
    "Solution().findDiagonalOrder(nums)"
   ]
  }
 ],
 "metadata": {
  "kernelspec": {
   "display_name": "Python 3",
   "language": "python",
   "name": "python3"
  },
  "language_info": {
   "codemirror_mode": {
    "name": "ipython",
    "version": 3
   },
   "file_extension": ".py",
   "mimetype": "text/x-python",
   "name": "python",
   "nbconvert_exporter": "python",
   "pygments_lexer": "ipython3",
   "version": "3.6.5"
  }
 },
 "nbformat": 4,
 "nbformat_minor": 2
}
